{
  "nbformat": 4,
  "nbformat_minor": 0,
  "metadata": {
    "colab": {
      "name": "CS412_Project",
      "provenance": [],
      "collapsed_sections": [
        "1hKwieM7HkVd",
        "1cImpEAsYlxn",
        "J4czS-pKtEUR"
      ],
      "toc_visible": true
    },
    "kernelspec": {
      "name": "python3",
      "display_name": "Python 3"
    }
  },
  "cells": [
    {
      "cell_type": "code",
      "metadata": {
        "id": "WxZ-vNqzDHL3",
        "colab": {
          "base_uri": "https://localhost:8080/"
        },
        "outputId": "1eddddb6-adab-4fed-efe3-6dbe76c2ca3d"
      },
      "source": [
        "from google.colab import drive\r\n",
        "drive.mount('/content/drive')\r\n",
        "!pip install --upgrade category_encoders\r\n",
        "import pandas as pd\r\n",
        "import numpy as np\r\n",
        "import seaborn as sns\r\n",
        "import matplotlib.pyplot as plt\r\n",
        "import os\r\n",
        "import category_encoders as ce\r\n",
        "from sklearn.preprocessing import MultiLabelBinarizer\r\n",
        "from sklearn.neighbors import KNeighborsClassifier\r\n",
        "from sklearn.model_selection import train_test_split\r\n",
        "from sklearn.ensemble import GradientBoostingClassifier\r\n",
        "from sklearn.model_selection import cross_val_score\r\n",
        "from sklearn.ensemble import GradientBoostingRegressor\r\n",
        "from sklearn.model_selection import GridSearchCV\r\n",
        "from sklearn import tree\r\n",
        "from sklearn.model_selection import KFold\r\n",
        "from sklearn.model_selection import RepeatedKFold\r\n",
        "from sklearn.preprocessing import StandardScaler\r\n",
        "from sklearn.datasets import load_boston\r\n",
        "from sklearn.neighbors import KNeighborsRegressor\r\n",
        "from sklearn.model_selection import RandomizedSearchCV\r\n",
        "from sklearn.ensemble import RandomForestRegressor\r\n",
        "%matplotlib inline"
      ],
      "execution_count": null,
      "outputs": [
        {
          "output_type": "stream",
          "text": [
            "Mounted at /content/drive\n",
            "Collecting category_encoders\n",
            "\u001b[?25l  Downloading https://files.pythonhosted.org/packages/44/57/fcef41c248701ee62e8325026b90c432adea35555cbc870aff9cfba23727/category_encoders-2.2.2-py2.py3-none-any.whl (80kB)\n",
            "\u001b[K     |████████████████████████████████| 81kB 4.5MB/s \n",
            "\u001b[?25hRequirement already satisfied, skipping upgrade: numpy>=1.14.0 in /usr/local/lib/python3.6/dist-packages (from category_encoders) (1.19.4)\n",
            "Requirement already satisfied, skipping upgrade: scipy>=1.0.0 in /usr/local/lib/python3.6/dist-packages (from category_encoders) (1.4.1)\n",
            "Requirement already satisfied, skipping upgrade: statsmodels>=0.9.0 in /usr/local/lib/python3.6/dist-packages (from category_encoders) (0.10.2)\n",
            "Requirement already satisfied, skipping upgrade: pandas>=0.21.1 in /usr/local/lib/python3.6/dist-packages (from category_encoders) (1.1.5)\n",
            "Requirement already satisfied, skipping upgrade: scikit-learn>=0.20.0 in /usr/local/lib/python3.6/dist-packages (from category_encoders) (0.22.2.post1)\n",
            "Requirement already satisfied, skipping upgrade: patsy>=0.5.1 in /usr/local/lib/python3.6/dist-packages (from category_encoders) (0.5.1)\n",
            "Requirement already satisfied, skipping upgrade: pytz>=2017.2 in /usr/local/lib/python3.6/dist-packages (from pandas>=0.21.1->category_encoders) (2018.9)\n",
            "Requirement already satisfied, skipping upgrade: python-dateutil>=2.7.3 in /usr/local/lib/python3.6/dist-packages (from pandas>=0.21.1->category_encoders) (2.8.1)\n",
            "Requirement already satisfied, skipping upgrade: joblib>=0.11 in /usr/local/lib/python3.6/dist-packages (from scikit-learn>=0.20.0->category_encoders) (1.0.0)\n",
            "Requirement already satisfied, skipping upgrade: six in /usr/local/lib/python3.6/dist-packages (from patsy>=0.5.1->category_encoders) (1.15.0)\n",
            "Installing collected packages: category-encoders\n",
            "Successfully installed category-encoders-2.2.2\n"
          ],
          "name": "stdout"
        },
        {
          "output_type": "stream",
          "text": [
            "/usr/local/lib/python3.6/dist-packages/statsmodels/tools/_testing.py:19: FutureWarning: pandas.util.testing is deprecated. Use the functions in the public API at pandas.testing instead.\n",
            "  import pandas.util.testing as tm\n"
          ],
          "name": "stderr"
        }
      ]
    },
    {
      "cell_type": "code",
      "metadata": {
        "id": "apCgkdaLEjrC"
      },
      "source": [
        "#import train data - convert exel to csv\r\n",
        "\r\n",
        "train = pd.read_excel(r'/content/train.xlsx')\r\n",
        "train.to_csv(r'/content/drive/MyDrive/train.csv', index = None, header=True)\r\n",
        "train.head()\r\n",
        "\r\n",
        "test = pd.read_excel(r'/content/test.xlsx')\r\n",
        "test.to_csv(r'/content/drive/MyDrive/test.csv', index = None, header=True)"
      ],
      "execution_count": null,
      "outputs": []
    },
    {
      "cell_type": "markdown",
      "metadata": {
        "id": "60axMQeV8vwq"
      },
      "source": [
        "\r\n",
        "\r\n",
        "*   Dropped columns regarding their unique label count \r\n",
        "*   Dropped columns which had 1 unique label or more than 1000 unique labels which do not have high correlation with our target variable\r\n",
        "*   Dropped columns which had more than 60% of empty rows (NaN Value) and replaced remaining NaN values with mode of the columns\r\n",
        "\r\n"
      ]
    },
    {
      "cell_type": "code",
      "metadata": {
        "id": "95XoVKlyEltH"
      },
      "source": [
        "droppedcols = []\r\n",
        "droppedcols = train.isnull().mean() < .6\r\n",
        "\r\n",
        "test_ID= test['ID']\r\n",
        "\r\n",
        "train = train.loc[:, droppedcols]\r\n",
        "test =  test.loc[:, droppedcols]\r\n",
        "\r\n",
        "test.drop('ID', axis='columns', inplace=True)\r\n",
        "train.drop('ID', axis='columns', inplace=True)\r\n",
        "test.drop(['PastJobTitlesSelect',  'MLToolNextYearSelect', 'MLTechniquesSelect'], axis='columns', inplace=True)\r\n",
        "train.drop(['PastJobTitlesSelect',  'MLToolNextYearSelect', 'MLTechniquesSelect'], axis='columns', inplace=True)\r\n",
        "\r\n",
        "# replace nan values with mode for test and train\r\n",
        "for column in train.columns:\r\n",
        "    train[column].fillna(train[column].mode()[0], inplace=True)\r\n",
        "\r\n",
        "for column in test.columns:\r\n",
        "    test[column].fillna(test[column].mode()[0], inplace=True)"
      ],
      "execution_count": null,
      "outputs": []
    },
    {
      "cell_type": "markdown",
      "metadata": {
        "id": "K0LtTItjEwmJ"
      },
      "source": [
        "# Mapping Ordinal"
      ]
    },
    {
      "cell_type": "markdown",
      "metadata": {
        "id": "80gMxygv9iXO"
      },
      "source": [
        "Mapped attributes which has a inherit relationship\r\n",
        "(Ordinal Categories)\r\n"
      ]
    },
    {
      "cell_type": "code",
      "metadata": {
        "id": "OQOJ5qr_Etlw"
      },
      "source": [
        "EmployerSize = {'10,000 or more employees' :8,'1,000 to 4,999 employees':6,'5,000 to 9,999 employees':7,'500 to 999 employees':5,'Fewer than 10 employees' :1, '10 to 19 employees': 2, \"I don/'t know\": 0,'20 to 99 employees':3, '100 to 499 employees':4, 'I prefer not to answer':0 }\r\n",
        "\r\n",
        "train['EmployerSize'] = train['EmployerSize'].replace(EmployerSize)\r\n",
        "test['EmployerSize'] = test['EmployerSize'].replace(EmployerSize)\r\n",
        "\r\n",
        "\r\n",
        "frequency =  {'Always':6, 'Rarely':2, 'Sometimes':3, 'Often':5, 'Most of the time':4, 'Never':0, \"Don't know\":1}\r\n",
        "\r\n",
        "#train\r\n",
        "train['WorkProductionFrequency'] = train['WorkProductionFrequency'].replace(frequency)\r\n",
        "train['WorkToolsFrequencyPython'] = train['WorkToolsFrequencyPython'].replace(frequency)\r\n",
        "train['WorkToolsFrequencyR'] = train['WorkToolsFrequencyR'].replace(frequency)\r\n",
        "train['WorkToolsFrequencySQL'] = train['WorkToolsFrequencySQL'].replace(frequency)\r\n",
        "train['WorkMethodsFrequencyCross-Validation'] = train['WorkMethodsFrequencyCross-Validation'].replace(frequency)\r\n",
        "train['WorkMethodsFrequencyDataVisualization'] = train['WorkMethodsFrequencyDataVisualization'].replace(frequency)\r\n",
        "train['WorkMethodsFrequencyDecisionTrees'] = train['WorkMethodsFrequencyDecisionTrees'].replace(frequency)\r\n",
        "train['WorkMethodsFrequencyLogisticRegression'] = train['WorkMethodsFrequencyLogisticRegression'].replace(frequency)\r\n",
        "train['WorkMethodsFrequencyRandomForests'] = train['WorkMethodsFrequencyRandomForests'].replace(frequency)\r\n",
        "train['WorkMethodsFrequencyTimeSeriesAnalysis'] = train['WorkMethodsFrequencyTimeSeriesAnalysis'].replace(frequency)\r\n",
        "train['WorkChallengeFrequencyTalent'] = train['WorkChallengeFrequencyTalent'].replace(frequency)\r\n",
        "train['RemoteWork'] = train['RemoteWork'].replace(frequency)\r\n",
        "\r\n",
        "#test\r\n",
        "test['WorkProductionFrequency'] = test['WorkProductionFrequency'].replace(frequency)\r\n",
        "test['WorkToolsFrequencyPython'] = test['WorkToolsFrequencyPython'].replace(frequency)\r\n",
        "test['WorkToolsFrequencyR'] = test['WorkToolsFrequencyR'].replace(frequency)\r\n",
        "test['WorkToolsFrequencySQL'] = test['WorkToolsFrequencySQL'].replace(frequency)\r\n",
        "test['WorkMethodsFrequencyCross-Validation'] = test['WorkMethodsFrequencyCross-Validation'].replace(frequency)\r\n",
        "test['WorkMethodsFrequencyDataVisualization'] = test['WorkMethodsFrequencyDataVisualization'].replace(frequency)\r\n",
        "test['WorkMethodsFrequencyDecisionTrees'] = test['WorkMethodsFrequencyDecisionTrees'].replace(frequency)\r\n",
        "test['WorkMethodsFrequencyLogisticRegression'] = test['WorkMethodsFrequencyLogisticRegression'].replace(frequency)\r\n",
        "test['WorkMethodsFrequencyRandomForests'] = test['WorkMethodsFrequencyRandomForests'].replace(frequency)\r\n",
        "test['WorkMethodsFrequencyTimeSeriesAnalysis'] = test['WorkMethodsFrequencyTimeSeriesAnalysis'].replace(frequency)\r\n",
        "test['WorkChallengeFrequencyTalent'] = test['WorkChallengeFrequencyTalent'].replace(frequency)\r\n",
        "test['RemoteWork'] = test['RemoteWork'].replace(frequency)\r\n",
        "\r\n",
        "usefulness = {'Very useful':2, 'Somewhat useful':1, 'Not Useful':0}\r\n",
        "\r\n",
        "#train\r\n",
        "train['LearningPlatformUsefulnessBlogs'] = train['LearningPlatformUsefulnessBlogs'].replace(usefulness)\r\n",
        "train['LearningPlatformUsefulnessKaggle'] = train['LearningPlatformUsefulnessKaggle'].replace(usefulness)\r\n",
        "train['LearningPlatformUsefulnessCourses'] = train['LearningPlatformUsefulnessCourses'].replace(usefulness)\r\n",
        "train['LearningPlatformUsefulnessProjects'] = train['LearningPlatformUsefulnessProjects'].replace(usefulness)\r\n",
        "train['LearningPlatformUsefulnessSO'] = train['LearningPlatformUsefulnessSO'].replace(usefulness)\r\n",
        "train['LearningPlatformUsefulnessYouTube'] = train['LearningPlatformUsefulnessYouTube'].replace(usefulness)\r\n",
        "\r\n",
        "#test\r\n",
        "test['LearningPlatformUsefulnessBlogs'] = test['LearningPlatformUsefulnessBlogs'].replace(usefulness)\r\n",
        "test['LearningPlatformUsefulnessKaggle'] = test['LearningPlatformUsefulnessKaggle'].replace(usefulness)\r\n",
        "test['LearningPlatformUsefulnessCourses'] = test['LearningPlatformUsefulnessCourses'].replace(usefulness)\r\n",
        "test['LearningPlatformUsefulnessProjects'] = test['LearningPlatformUsefulnessProjects'].replace(usefulness)\r\n",
        "test['LearningPlatformUsefulnessSO'] = test['LearningPlatformUsefulnessSO'].replace(usefulness)\r\n",
        "test['LearningPlatformUsefulnessYouTube'] = test['LearningPlatformUsefulnessYouTube'].replace(usefulness)\r\n",
        "\r\n",
        "\r\n",
        "dict = {'Yes':2, 'Sort of (Explain more)':1, 'No':0}\r\n",
        "train['DataScienceIdentitySelect'] = train['DataScienceIdentitySelect'].replace(dict)\r\n",
        "test['DataScienceIdentitySelect'] = test['DataScienceIdentitySelect'].replace(dict)\r\n",
        "\r\n",
        "WorkDataVisualizations = {'51-75% of projects':4, '100% of projects':6, '10-25% of projects':2,'76-99% of projects':5, 'Less than 10% of projects':1, '26-50% of projects':3,'None':0}\r\n",
        "train['WorkDataVisualizations'] = train['WorkDataVisualizations'].replace(dict)\r\n",
        "test['WorkDataVisualizations'] = test['WorkDataVisualizations'].replace(dict)\r\n",
        "\r\n",
        "\r\n",
        "tenure_map ={'More than 10 years':5, '6 to 10 years':4,'3 to 5 years':3,'1 to 2 years':2,'Less than a year':1,'I don\\'t write code to analyze data':3}\r\n",
        "train['Tenure']=train['Tenure'].replace(tenure_map)\r\n",
        "test['Tenure']=test['Tenure'].replace(tenure_map)\r\n",
        "\r\n",
        "title_map={'Fine':2, 'Poorly':1, 'Perfectly':3}\r\n",
        "train['TitleFit']=train['TitleFit'].replace(title_map)\r\n",
        "test['TitleFit']=test['TitleFit'].replace(title_map)"
      ],
      "execution_count": null,
      "outputs": []
    },
    {
      "cell_type": "markdown",
      "metadata": {
        "id": "eqQ55O0vE5ag"
      },
      "source": [
        "# Create list from columns convert them into seperate columns"
      ]
    },
    {
      "cell_type": "markdown",
      "metadata": {
        "id": "GiKF9Vdz9r3l"
      },
      "source": [
        "Created new columns out of the attributes which consisted of lists\r\n",
        "‘Past Job Titles Select’ , ‘ML Skills Select\r\n",
        "\r\n",
        "Target variable was determined as new\r\n"
      ]
    },
    {
      "cell_type": "code",
      "metadata": {
        "id": "awpaj5_XE5A0"
      },
      "source": [
        "namelist = ['WorkAlgorithmsSelect', 'MLSkillsSelect']\r\n",
        "\r\n",
        "# Change seperator\r\n",
        "\r\n",
        "for var in namelist:  \r\n",
        "  train[var] = train[var].str.replace('/','-')\r\n",
        "\r\n",
        "for var in namelist: \r\n",
        "  test[var] = test[var].str.replace('/','-')\r\n",
        "\r\n",
        "# Split\r\n",
        "\r\n",
        "for var in namelist: \r\n",
        "  train[var] = train[var].str.split(',')\r\n",
        "for var in namelist: \r\n",
        "  test[var] = test[var].str.split(',')\r\n",
        "\r\n",
        "# Handle overlapped labels\r\n",
        "\r\n",
        "counter = 0\r\n",
        "for var in namelist:\r\n",
        "  counter += 1\r\n",
        "  for ind in train.index:\r\n",
        "    for i in range(len(train[var][ind])) :\r\n",
        "       train[var][ind][i] += str(counter)\r\n",
        "\r\n",
        "counter = 0\r\n",
        "for var in namelist:\r\n",
        "  counter += 1\r\n",
        "  for ind in test.index:\r\n",
        "    for i in range(len(test[var][ind])) :\r\n",
        "      test[var][ind][i] += str(counter)\r\n",
        "\r\n",
        "\r\n",
        "# One hot encode\r\n",
        "\r\n",
        "for var in namelist:\r\n",
        "  mlb = MultiLabelBinarizer(sparse_output=True)\r\n",
        "  train = train.join(\r\n",
        "            pd.DataFrame.sparse.from_spmatrix(\r\n",
        "                mlb.fit_transform(train.pop(var)),\r\n",
        "                index=train.index,\r\n",
        "                columns=mlb.classes_))\r\n",
        "  \r\n",
        "for var in namelist:\r\n",
        "  mlb = MultiLabelBinarizer(sparse_output=True)\r\n",
        "  test = test.join(\r\n",
        "            pd.DataFrame.sparse.from_spmatrix(\r\n",
        "                mlb.fit_transform(test.pop(var)),\r\n",
        "                index=test.index,\r\n",
        "                columns=mlb.classes_))"
      ],
      "execution_count": null,
      "outputs": []
    },
    {
      "cell_type": "markdown",
      "metadata": {
        "id": "MXQ-orVgFLlO"
      },
      "source": [
        "# Split test data"
      ]
    },
    {
      "cell_type": "code",
      "metadata": {
        "id": "fIxKAp2rFMeU"
      },
      "source": [
        "y_train = train['JobSatisfaction']\r\n",
        "X_train = train.drop(['JobSatisfaction'], axis=1)\r\n",
        "X_test = test"
      ],
      "execution_count": null,
      "outputs": []
    },
    {
      "cell_type": "code",
      "metadata": {
        "id": "Tsp6TVpMFPfF"
      },
      "source": [
        "# Get missing columns in the training test\r\n",
        "\r\n",
        "missing_cols = set( X_train.columns ) - set( X_test.columns )\r\n",
        "# Add a missing column in test set with default value equal to 0\r\n",
        "for c in missing_cols:\r\n",
        "    X_test[c] = 0\r\n",
        "# Ensure the order of column in the test set is in the same order than in train set\r\n",
        "X_test = X_test[X_train.columns]"
      ],
      "execution_count": null,
      "outputs": []
    },
    {
      "cell_type": "markdown",
      "metadata": {
        "id": "rmQcMAA1FTHg"
      },
      "source": [
        "# One hot encoding"
      ]
    },
    {
      "cell_type": "markdown",
      "metadata": {
        "id": "_yqgMejR-aFd"
      },
      "source": [
        "perform a basic one hot encoding of categorical features\r\n"
      ]
    },
    {
      "cell_type": "code",
      "metadata": {
        "colab": {
          "base_uri": "https://localhost:8080/"
        },
        "id": "l6Vjn3_MFXr0",
        "outputId": "9088b543-bbfd-4836-bd9f-425b6f9fd0b7"
      },
      "source": [
        "categorical = [var for var in X_train.columns if X_train[var].dtype=='O']\r\n",
        "\r\n",
        "\r\n",
        "#encode remaining variables with one-hot encoding\r\n",
        "\r\n",
        "encoder = ce.OneHotEncoder(cols=categorical)\r\n",
        "                          \r\n",
        "X_train = encoder.fit_transform(X_train)\r\n",
        "\r\n",
        "X_test = encoder.transform(X_test)\r\n",
        "\r\n",
        "#X_train.head()\r\n",
        "\r\n",
        "corr = X_train.apply(lambda x: x.corr(y_train))\r\n",
        "corr\r\n",
        "\r\n",
        "highcorrelation =[]\r\n",
        "\r\n",
        "for index_val, series_val in corr.iteritems():\r\n",
        "  if ( 0 > series_val < -0.009  or 0.009 <series_val> 0):\r\n",
        "    highcorrelation.append(True)\r\n",
        "  else:\r\n",
        "    highcorrelation.append(False)\r\n",
        "highcorrelation\r\n",
        "\r\n",
        "X_train = X_train.loc[:, highcorrelation]\r\n",
        "X_test =  X_test.loc[:, highcorrelation]"
      ],
      "execution_count": null,
      "outputs": [
        {
          "output_type": "stream",
          "text": [
            "/usr/local/lib/python3.6/dist-packages/category_encoders/utils.py:21: FutureWarning: is_categorical is deprecated and will be removed in a future version.  Use is_categorical_dtype instead\n",
            "  elif pd.api.types.is_categorical(cols):\n"
          ],
          "name": "stderr"
        }
      ]
    },
    {
      "cell_type": "markdown",
      "metadata": {
        "id": "7ua5cIuhFiKd"
      },
      "source": [
        "# Feature Scaling"
      ]
    },
    {
      "cell_type": "markdown",
      "metadata": {
        "id": "bKrR19jO-dt6"
      },
      "source": [
        "Perform feature scaling"
      ]
    },
    {
      "cell_type": "code",
      "metadata": {
        "id": "d7l548AkFlFv"
      },
      "source": [
        "# Import `StandardScaler` from `sklearn.preprocessing`\r\n",
        "from sklearn.preprocessing import MinMaxScaler\r\n",
        "\r\n",
        "# Define the scaler \r\n",
        "scaler = MinMaxScaler().fit(X_train)\r\n",
        "\r\n",
        "# Scale the train set\r\n",
        "X_train = scaler.transform(X_train)\r\n",
        "\r\n",
        "# Scale the test set\r\n",
        "X_test = scaler.transform(X_test)"
      ],
      "execution_count": null,
      "outputs": []
    },
    {
      "cell_type": "markdown",
      "metadata": {
        "id": "1nD8ynYpLl3e"
      },
      "source": [
        "# Gradient Boost Regressor - Our Best Result"
      ]
    },
    {
      "cell_type": "markdown",
      "metadata": {
        "id": "PB5BJboz-1Mt"
      },
      "source": [
        ""
      ]
    },
    {
      "cell_type": "code",
      "metadata": {
        "id": "JPgpSxxKeoK6"
      },
      "source": [
        "cross_validation = RepeatedKFold(n_splits=5, n_repeats=3, random_state=42)"
      ],
      "execution_count": null,
      "outputs": []
    },
    {
      "cell_type": "code",
      "metadata": {
        "id": "-I75ulWa6PsT"
      },
      "source": [
        "GBR=GradientBoostingRegressor()\r\n",
        "search_grid={'n_estimators':[500,1000,2000,300],'learning_rate':[.001,0.01,.1],'max_depth':[1,2,4],'subsample':[.5,.75,1],'random_state':[1]}\r\n",
        "search=GridSearchCV(estimator=GBR,param_grid=search_grid,scoring='neg_mean_squared_error',n_jobs=1,cv=cross_validation)\r\n",
        "search.fit(X_train,y_train)"
      ],
      "execution_count": null,
      "outputs": []
    },
    {
      "cell_type": "code",
      "metadata": {
        "id": "KRcZ_dbDxv7D"
      },
      "source": [
        "search.best_params_"
      ],
      "execution_count": null,
      "outputs": []
    },
    {
      "cell_type": "markdown",
      "metadata": {
        "id": "lXnPc4sqEqkN"
      },
      "source": [
        "![Ekran Alsssıntısı.PNG](data:image/png;base64,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)"
      ]
    },
    {
      "cell_type": "markdown",
      "metadata": {
        "id": "tAZD1dTt6QbS"
      },
      "source": [
        "**Best parameters are (n_estimators=2000,learning_rate=0.01,subsample=.75,max_depth=1,random_state=1) acording to grid search**"
      ]
    },
    {
      "cell_type": "code",
      "metadata": {
        "id": "ayZhVbhVwhWb"
      },
      "source": [
        "GBR=GradientBoostingRegressor(n_estimators=2000,learning_rate=0.01,subsample=.75,max_depth=1,random_state=1) #use best parameters"
      ],
      "execution_count": null,
      "outputs": []
    },
    {
      "cell_type": "code",
      "metadata": {
        "colab": {
          "base_uri": "https://localhost:8080/"
        },
        "id": "1AvxXpMOMvOq",
        "outputId": "305d832a-c900-47b3-e4f7-dfde02e3fcc5"
      },
      "source": [
        "GBR.fit(X_train,y_train.values.ravel())"
      ],
      "execution_count": null,
      "outputs": [
        {
          "output_type": "execute_result",
          "data": {
            "text/plain": [
              "GradientBoostingRegressor(alpha=0.9, ccp_alpha=0.0, criterion='friedman_mse',\n",
              "                          init=None, learning_rate=0.01, loss='ls', max_depth=1,\n",
              "                          max_features=None, max_leaf_nodes=None,\n",
              "                          min_impurity_decrease=0.0, min_impurity_split=None,\n",
              "                          min_samples_leaf=1, min_samples_split=2,\n",
              "                          min_weight_fraction_leaf=0.0, n_estimators=3000,\n",
              "                          n_iter_no_change=None, presort='deprecated',\n",
              "                          random_state=1, subsample=0.75, tol=0.0001,\n",
              "                          validation_fraction=0.1, verbose=0, warm_start=False)"
            ]
          },
          "metadata": {
            "tags": []
          },
          "execution_count": 61
        }
      ]
    },
    {
      "cell_type": "code",
      "metadata": {
        "id": "fyacbZINMz76"
      },
      "source": [
        "y_pred = GBR.predict(X_train)"
      ],
      "execution_count": null,
      "outputs": []
    },
    {
      "cell_type": "code",
      "metadata": {
        "colab": {
          "base_uri": "https://localhost:8080/"
        },
        "id": "PN8v3AtR3oRL",
        "outputId": "2d7b422e-9ab2-48a4-e23a-1319dc8429a9"
      },
      "source": [
        "from sklearn.model_selection import train_test_split\r\n",
        "from math import sqrt\r\n",
        "scores = cross_val_score(GBR, X_train, y_train, scoring='neg_mean_squared_error', cv=3)\r\n",
        "print(\"Root Mean Square Error (RMSE)  of mean of the cross validation score is \" + str(sqrt(-1 * scores.mean())))"
      ],
      "execution_count": null,
      "outputs": [
        {
          "output_type": "stream",
          "text": [
            "Root Mean Square Error (RMSE)  of mean of the cross validation score is 2.0060102251564653\n"
          ],
          "name": "stdout"
        }
      ]
    },
    {
      "cell_type": "code",
      "metadata": {
        "id": "p5Uw4scPwqxq"
      },
      "source": [
        "df = pd.DataFrame(y_pred, columns=['Prediction'])\r\n",
        "df['ID'] = range(1, 1+len(df))\r\n",
        "df = df[['ID', 'Prediction']]\r\n",
        "prediction = df.to_csv(r'/content/drive/MyDrive/submission.csv', index = None, header=True)"
      ],
      "execution_count": null,
      "outputs": []
    },
    {
      "cell_type": "markdown",
      "metadata": {
        "id": "fQTOWkPl5vEl"
      },
      "source": [
        "**Root Mean Square Error (RMSE)  of mean of the cross validation score is 2.0060102251564653**"
      ]
    },
    {
      "cell_type": "markdown",
      "metadata": {
        "id": "RSBqjoKr54FR"
      },
      "source": [
        "**Root Mean Square Error (RMSE)  of y_test is 1.96966**\r\n"
      ]
    },
    {
      "cell_type": "markdown",
      "metadata": {
        "id": "1hKwieM7HkVd"
      },
      "source": [
        "# Random Forest Regression"
      ]
    },
    {
      "cell_type": "code",
      "metadata": {
        "id": "KowX4ZwbHjjy",
        "colab": {
          "base_uri": "https://localhost:8080/"
        },
        "outputId": "2a425f73-e8e0-470d-967d-c41c9751e8b0"
      },
      "source": [
        "# Number of trees in random forest\r\n",
        "n_estimators = [int(x) for x in np.linspace(start = 200, stop = 2000, num = 10)]\r\n",
        "\r\n",
        "# Number of features to consider at every split\r\n",
        "max_features = ['auto', 'sqrt']\r\n",
        "\r\n",
        "# Maximum number of levels in tree\r\n",
        "max_depth = [int(x) for x in np.linspace(10, 110, num = 11)]\r\n",
        "max_depth.append(None)\r\n",
        "\r\n",
        "# Minimum number of samples required to split a node\r\n",
        "min_samples_split = [2, 5, 10]\r\n",
        "\r\n",
        "# Minimum number of samples required at each leaf node\r\n",
        "min_samples_leaf = [1, 2, 4]\r\n",
        "\r\n",
        "# Method of selecting samples for training each tree\r\n",
        "bootstrap = [True, False]\r\n",
        "\r\n",
        "# Create the random grid\r\n",
        "random_grid = {'n_estimators': n_estimators,\r\n",
        "               'max_features': max_features,\r\n",
        "               'max_depth': max_depth,\r\n",
        "               'min_samples_split': min_samples_split,\r\n",
        "               'min_samples_leaf': min_samples_leaf,\r\n",
        "               'bootstrap': bootstrap}\r\n",
        "\r\n",
        "# Use the random grid to search for best hyperparameters\r\n",
        "# First create the base model to tune\r\n",
        "rf = RandomForestRegressor()\r\n",
        "# Random search of parameters, using 3 fold cross validation, \r\n",
        "# search across 100 different combinations, and use all available cores\r\n",
        "rf_random = RandomizedSearchCV(estimator = rf, param_distributions = random_grid, n_iter = 100, cv = 3, verbose=2, random_state=42, n_jobs = 1)\r\n",
        "\r\n",
        "# Fit the random search model\r\n",
        "rf_random.fit(X_train, y_train)"
      ],
      "execution_count": null,
      "outputs": [
        {
          "output_type": "stream",
          "text": [
            "Fitting 3 folds for each of 100 candidates, totalling 300 fits\n",
            "[CV] n_estimators=400, min_samples_split=5, min_samples_leaf=1, max_features=sqrt, max_depth=30, bootstrap=True \n"
          ],
          "name": "stdout"
        },
        {
          "output_type": "stream",
          "text": [
            "[Parallel(n_jobs=1)]: Using backend SequentialBackend with 1 concurrent workers.\n"
          ],
          "name": "stderr"
        },
        {
          "output_type": "stream",
          "text": [
            "[CV]  n_estimators=400, min_samples_split=5, min_samples_leaf=1, max_features=sqrt, max_depth=30, bootstrap=True, total=   3.2s\n",
            "[CV] n_estimators=400, min_samples_split=5, min_samples_leaf=1, max_features=sqrt, max_depth=30, bootstrap=True \n"
          ],
          "name": "stdout"
        },
        {
          "output_type": "stream",
          "text": [
            "[Parallel(n_jobs=1)]: Done   1 out of   1 | elapsed:    3.2s remaining:    0.0s\n"
          ],
          "name": "stderr"
        },
        {
          "output_type": "stream",
          "text": [
            "[CV]  n_estimators=400, min_samples_split=5, min_samples_leaf=1, max_features=sqrt, max_depth=30, bootstrap=True, total=   3.2s\n",
            "[CV] n_estimators=400, min_samples_split=5, min_samples_leaf=1, max_features=sqrt, max_depth=30, bootstrap=True \n",
            "[CV]  n_estimators=400, min_samples_split=5, min_samples_leaf=1, max_features=sqrt, max_depth=30, bootstrap=True, total=   3.2s\n",
            "[CV] n_estimators=2000, min_samples_split=5, min_samples_leaf=1, max_features=sqrt, max_depth=10, bootstrap=True \n",
            "[CV]  n_estimators=2000, min_samples_split=5, min_samples_leaf=1, max_features=sqrt, max_depth=10, bootstrap=True, total=   8.8s\n",
            "[CV] n_estimators=2000, min_samples_split=5, min_samples_leaf=1, max_features=sqrt, max_depth=10, bootstrap=True \n",
            "[CV]  n_estimators=2000, min_samples_split=5, min_samples_leaf=1, max_features=sqrt, max_depth=10, bootstrap=True, total=   8.9s\n",
            "[CV] n_estimators=2000, min_samples_split=5, min_samples_leaf=1, max_features=sqrt, max_depth=10, bootstrap=True \n",
            "[CV]  n_estimators=2000, min_samples_split=5, min_samples_leaf=1, max_features=sqrt, max_depth=10, bootstrap=True, total=   8.8s\n",
            "[CV] n_estimators=1200, min_samples_split=5, min_samples_leaf=2, max_features=sqrt, max_depth=10, bootstrap=False \n",
            "[CV]  n_estimators=1200, min_samples_split=5, min_samples_leaf=2, max_features=sqrt, max_depth=10, bootstrap=False, total=   6.6s\n",
            "[CV] n_estimators=1200, min_samples_split=5, min_samples_leaf=2, max_features=sqrt, max_depth=10, bootstrap=False \n",
            "[CV]  n_estimators=1200, min_samples_split=5, min_samples_leaf=2, max_features=sqrt, max_depth=10, bootstrap=False, total=   6.5s\n",
            "[CV] n_estimators=1200, min_samples_split=5, min_samples_leaf=2, max_features=sqrt, max_depth=10, bootstrap=False \n",
            "[CV]  n_estimators=1200, min_samples_split=5, min_samples_leaf=2, max_features=sqrt, max_depth=10, bootstrap=False, total=   6.6s\n",
            "[CV] n_estimators=2000, min_samples_split=2, min_samples_leaf=4, max_features=auto, max_depth=30, bootstrap=False \n",
            "[CV]  n_estimators=2000, min_samples_split=2, min_samples_leaf=4, max_features=auto, max_depth=30, bootstrap=False, total= 2.7min\n",
            "[CV] n_estimators=2000, min_samples_split=2, min_samples_leaf=4, max_features=auto, max_depth=30, bootstrap=False \n",
            "[CV]  n_estimators=2000, min_samples_split=2, min_samples_leaf=4, max_features=auto, max_depth=30, bootstrap=False, total= 2.7min\n",
            "[CV] n_estimators=2000, min_samples_split=2, min_samples_leaf=4, max_features=auto, max_depth=30, bootstrap=False \n",
            "[CV]  n_estimators=2000, min_samples_split=2, min_samples_leaf=4, max_features=auto, max_depth=30, bootstrap=False, total= 2.6min\n",
            "[CV] n_estimators=1600, min_samples_split=2, min_samples_leaf=4, max_features=sqrt, max_depth=10, bootstrap=True \n",
            "[CV]  n_estimators=1600, min_samples_split=2, min_samples_leaf=4, max_features=sqrt, max_depth=10, bootstrap=True, total=   6.7s\n",
            "[CV] n_estimators=1600, min_samples_split=2, min_samples_leaf=4, max_features=sqrt, max_depth=10, bootstrap=True \n",
            "[CV]  n_estimators=1600, min_samples_split=2, min_samples_leaf=4, max_features=sqrt, max_depth=10, bootstrap=True, total=   6.8s\n",
            "[CV] n_estimators=1600, min_samples_split=2, min_samples_leaf=4, max_features=sqrt, max_depth=10, bootstrap=True \n",
            "[CV]  n_estimators=1600, min_samples_split=2, min_samples_leaf=4, max_features=sqrt, max_depth=10, bootstrap=True, total=   6.9s\n",
            "[CV] n_estimators=800, min_samples_split=5, min_samples_leaf=4, max_features=sqrt, max_depth=30, bootstrap=False \n",
            "[CV]  n_estimators=800, min_samples_split=5, min_samples_leaf=4, max_features=sqrt, max_depth=30, bootstrap=False, total=   6.6s\n",
            "[CV] n_estimators=800, min_samples_split=5, min_samples_leaf=4, max_features=sqrt, max_depth=30, bootstrap=False \n",
            "[CV]  n_estimators=800, min_samples_split=5, min_samples_leaf=4, max_features=sqrt, max_depth=30, bootstrap=False, total=   6.6s\n",
            "[CV] n_estimators=800, min_samples_split=5, min_samples_leaf=4, max_features=sqrt, max_depth=30, bootstrap=False \n",
            "[CV]  n_estimators=800, min_samples_split=5, min_samples_leaf=4, max_features=sqrt, max_depth=30, bootstrap=False, total=   6.5s\n",
            "[CV] n_estimators=1000, min_samples_split=5, min_samples_leaf=2, max_features=sqrt, max_depth=100, bootstrap=False \n",
            "[CV]  n_estimators=1000, min_samples_split=5, min_samples_leaf=2, max_features=sqrt, max_depth=100, bootstrap=False, total=  10.2s\n",
            "[CV] n_estimators=1000, min_samples_split=5, min_samples_leaf=2, max_features=sqrt, max_depth=100, bootstrap=False \n",
            "[CV]  n_estimators=1000, min_samples_split=5, min_samples_leaf=2, max_features=sqrt, max_depth=100, bootstrap=False, total=  10.3s\n",
            "[CV] n_estimators=1000, min_samples_split=5, min_samples_leaf=2, max_features=sqrt, max_depth=100, bootstrap=False \n",
            "[CV]  n_estimators=1000, min_samples_split=5, min_samples_leaf=2, max_features=sqrt, max_depth=100, bootstrap=False, total=  10.2s\n",
            "[CV] n_estimators=600, min_samples_split=5, min_samples_leaf=1, max_features=sqrt, max_depth=60, bootstrap=False \n",
            "[CV]  n_estimators=600, min_samples_split=5, min_samples_leaf=1, max_features=sqrt, max_depth=60, bootstrap=False, total=   7.0s\n",
            "[CV] n_estimators=600, min_samples_split=5, min_samples_leaf=1, max_features=sqrt, max_depth=60, bootstrap=False \n",
            "[CV]  n_estimators=600, min_samples_split=5, min_samples_leaf=1, max_features=sqrt, max_depth=60, bootstrap=False, total=   7.1s\n",
            "[CV] n_estimators=600, min_samples_split=5, min_samples_leaf=1, max_features=sqrt, max_depth=60, bootstrap=False \n",
            "[CV]  n_estimators=600, min_samples_split=5, min_samples_leaf=1, max_features=sqrt, max_depth=60, bootstrap=False, total=   7.0s\n",
            "[CV] n_estimators=1000, min_samples_split=2, min_samples_leaf=1, max_features=auto, max_depth=50, bootstrap=False \n",
            "[CV]  n_estimators=1000, min_samples_split=2, min_samples_leaf=1, max_features=auto, max_depth=50, bootstrap=False, total= 1.9min\n",
            "[CV] n_estimators=1000, min_samples_split=2, min_samples_leaf=1, max_features=auto, max_depth=50, bootstrap=False \n",
            "[CV]  n_estimators=1000, min_samples_split=2, min_samples_leaf=1, max_features=auto, max_depth=50, bootstrap=False, total= 1.9min\n",
            "[CV] n_estimators=1000, min_samples_split=2, min_samples_leaf=1, max_features=auto, max_depth=50, bootstrap=False \n",
            "[CV]  n_estimators=1000, min_samples_split=2, min_samples_leaf=1, max_features=auto, max_depth=50, bootstrap=False, total= 1.8min\n",
            "[CV] n_estimators=1800, min_samples_split=5, min_samples_leaf=4, max_features=auto, max_depth=10, bootstrap=False \n",
            "[CV]  n_estimators=1800, min_samples_split=5, min_samples_leaf=4, max_features=auto, max_depth=10, bootstrap=False, total= 1.5min\n",
            "[CV] n_estimators=1800, min_samples_split=5, min_samples_leaf=4, max_features=auto, max_depth=10, bootstrap=False \n",
            "[CV]  n_estimators=1800, min_samples_split=5, min_samples_leaf=4, max_features=auto, max_depth=10, bootstrap=False, total= 1.5min\n",
            "[CV] n_estimators=1800, min_samples_split=5, min_samples_leaf=4, max_features=auto, max_depth=10, bootstrap=False \n",
            "[CV]  n_estimators=1800, min_samples_split=5, min_samples_leaf=4, max_features=auto, max_depth=10, bootstrap=False, total= 1.6min\n",
            "[CV] n_estimators=400, min_samples_split=10, min_samples_leaf=4, max_features=auto, max_depth=70, bootstrap=True \n",
            "[CV]  n_estimators=400, min_samples_split=10, min_samples_leaf=4, max_features=auto, max_depth=70, bootstrap=True, total=  18.7s\n",
            "[CV] n_estimators=400, min_samples_split=10, min_samples_leaf=4, max_features=auto, max_depth=70, bootstrap=True \n",
            "[CV]  n_estimators=400, min_samples_split=10, min_samples_leaf=4, max_features=auto, max_depth=70, bootstrap=True, total=  19.2s\n",
            "[CV] n_estimators=400, min_samples_split=10, min_samples_leaf=4, max_features=auto, max_depth=70, bootstrap=True \n",
            "[CV]  n_estimators=400, min_samples_split=10, min_samples_leaf=4, max_features=auto, max_depth=70, bootstrap=True, total=  18.4s\n",
            "[CV] n_estimators=800, min_samples_split=5, min_samples_leaf=1, max_features=sqrt, max_depth=90, bootstrap=False \n",
            "[CV]  n_estimators=800, min_samples_split=5, min_samples_leaf=1, max_features=sqrt, max_depth=90, bootstrap=False, total=   9.3s\n",
            "[CV] n_estimators=800, min_samples_split=5, min_samples_leaf=1, max_features=sqrt, max_depth=90, bootstrap=False \n",
            "[CV]  n_estimators=800, min_samples_split=5, min_samples_leaf=1, max_features=sqrt, max_depth=90, bootstrap=False, total=   9.4s\n",
            "[CV] n_estimators=800, min_samples_split=5, min_samples_leaf=1, max_features=sqrt, max_depth=90, bootstrap=False \n",
            "[CV]  n_estimators=800, min_samples_split=5, min_samples_leaf=1, max_features=sqrt, max_depth=90, bootstrap=False, total=   9.3s\n",
            "[CV] n_estimators=2000, min_samples_split=10, min_samples_leaf=1, max_features=sqrt, max_depth=10, bootstrap=False \n",
            "[CV]  n_estimators=2000, min_samples_split=10, min_samples_leaf=1, max_features=sqrt, max_depth=10, bootstrap=False, total=  10.8s\n",
            "[CV] n_estimators=2000, min_samples_split=10, min_samples_leaf=1, max_features=sqrt, max_depth=10, bootstrap=False \n",
            "[CV]  n_estimators=2000, min_samples_split=10, min_samples_leaf=1, max_features=sqrt, max_depth=10, bootstrap=False, total=  10.8s\n",
            "[CV] n_estimators=2000, min_samples_split=10, min_samples_leaf=1, max_features=sqrt, max_depth=10, bootstrap=False \n",
            "[CV]  n_estimators=2000, min_samples_split=10, min_samples_leaf=1, max_features=sqrt, max_depth=10, bootstrap=False, total=  10.8s\n",
            "[CV] n_estimators=1600, min_samples_split=5, min_samples_leaf=2, max_features=sqrt, max_depth=10, bootstrap=False \n",
            "[CV]  n_estimators=1600, min_samples_split=5, min_samples_leaf=2, max_features=sqrt, max_depth=10, bootstrap=False, total=   8.8s\n",
            "[CV] n_estimators=1600, min_samples_split=5, min_samples_leaf=2, max_features=sqrt, max_depth=10, bootstrap=False \n",
            "[CV]  n_estimators=1600, min_samples_split=5, min_samples_leaf=2, max_features=sqrt, max_depth=10, bootstrap=False, total=   9.0s\n",
            "[CV] n_estimators=1600, min_samples_split=5, min_samples_leaf=2, max_features=sqrt, max_depth=10, bootstrap=False \n",
            "[CV]  n_estimators=1600, min_samples_split=5, min_samples_leaf=2, max_features=sqrt, max_depth=10, bootstrap=False, total=   8.8s\n",
            "[CV] n_estimators=800, min_samples_split=10, min_samples_leaf=2, max_features=sqrt, max_depth=30, bootstrap=False \n",
            "[CV]  n_estimators=800, min_samples_split=10, min_samples_leaf=2, max_features=sqrt, max_depth=30, bootstrap=False, total=   7.1s\n",
            "[CV] n_estimators=800, min_samples_split=10, min_samples_leaf=2, max_features=sqrt, max_depth=30, bootstrap=False \n",
            "[CV]  n_estimators=800, min_samples_split=10, min_samples_leaf=2, max_features=sqrt, max_depth=30, bootstrap=False, total=   7.3s\n",
            "[CV] n_estimators=800, min_samples_split=10, min_samples_leaf=2, max_features=sqrt, max_depth=30, bootstrap=False \n",
            "[CV]  n_estimators=800, min_samples_split=10, min_samples_leaf=2, max_features=sqrt, max_depth=30, bootstrap=False, total=   7.2s\n",
            "[CV] n_estimators=1800, min_samples_split=2, min_samples_leaf=4, max_features=auto, max_depth=50, bootstrap=False \n",
            "[CV]  n_estimators=1800, min_samples_split=2, min_samples_leaf=4, max_features=auto, max_depth=50, bootstrap=False, total= 2.5min\n",
            "[CV] n_estimators=1800, min_samples_split=2, min_samples_leaf=4, max_features=auto, max_depth=50, bootstrap=False \n",
            "[CV]  n_estimators=1800, min_samples_split=2, min_samples_leaf=4, max_features=auto, max_depth=50, bootstrap=False, total= 2.4min\n",
            "[CV] n_estimators=1800, min_samples_split=2, min_samples_leaf=4, max_features=auto, max_depth=50, bootstrap=False \n",
            "[CV]  n_estimators=1800, min_samples_split=2, min_samples_leaf=4, max_features=auto, max_depth=50, bootstrap=False, total= 2.2min\n",
            "[CV] n_estimators=600, min_samples_split=5, min_samples_leaf=2, max_features=auto, max_depth=70, bootstrap=False \n",
            "[CV]  n_estimators=600, min_samples_split=5, min_samples_leaf=2, max_features=auto, max_depth=70, bootstrap=False, total=  59.5s\n",
            "[CV] n_estimators=600, min_samples_split=5, min_samples_leaf=2, max_features=auto, max_depth=70, bootstrap=False \n",
            "[CV]  n_estimators=600, min_samples_split=5, min_samples_leaf=2, max_features=auto, max_depth=70, bootstrap=False, total=  58.2s\n",
            "[CV] n_estimators=600, min_samples_split=5, min_samples_leaf=2, max_features=auto, max_depth=70, bootstrap=False \n",
            "[CV]  n_estimators=600, min_samples_split=5, min_samples_leaf=2, max_features=auto, max_depth=70, bootstrap=False, total=  54.9s\n",
            "[CV] n_estimators=1000, min_samples_split=2, min_samples_leaf=1, max_features=sqrt, max_depth=20, bootstrap=True \n",
            "[CV]  n_estimators=1000, min_samples_split=2, min_samples_leaf=1, max_features=sqrt, max_depth=20, bootstrap=True, total=   8.0s\n",
            "[CV] n_estimators=1000, min_samples_split=2, min_samples_leaf=1, max_features=sqrt, max_depth=20, bootstrap=True \n",
            "[CV]  n_estimators=1000, min_samples_split=2, min_samples_leaf=1, max_features=sqrt, max_depth=20, bootstrap=True, total=   8.1s\n",
            "[CV] n_estimators=1000, min_samples_split=2, min_samples_leaf=1, max_features=sqrt, max_depth=20, bootstrap=True \n",
            "[CV]  n_estimators=1000, min_samples_split=2, min_samples_leaf=1, max_features=sqrt, max_depth=20, bootstrap=True, total=   8.1s\n",
            "[CV] n_estimators=1800, min_samples_split=10, min_samples_leaf=2, max_features=auto, max_depth=110, bootstrap=False \n",
            "[CV]  n_estimators=1800, min_samples_split=10, min_samples_leaf=2, max_features=auto, max_depth=110, bootstrap=False, total= 2.7min\n",
            "[CV] n_estimators=1800, min_samples_split=10, min_samples_leaf=2, max_features=auto, max_depth=110, bootstrap=False \n",
            "[CV]  n_estimators=1800, min_samples_split=10, min_samples_leaf=2, max_features=auto, max_depth=110, bootstrap=False, total= 2.6min\n",
            "[CV] n_estimators=1800, min_samples_split=10, min_samples_leaf=2, max_features=auto, max_depth=110, bootstrap=False \n",
            "[CV]  n_estimators=1800, min_samples_split=10, min_samples_leaf=2, max_features=auto, max_depth=110, bootstrap=False, total= 2.5min\n",
            "[CV] n_estimators=600, min_samples_split=5, min_samples_leaf=1, max_features=auto, max_depth=80, bootstrap=True \n",
            "[CV]  n_estimators=600, min_samples_split=5, min_samples_leaf=1, max_features=auto, max_depth=80, bootstrap=True, total=  38.6s\n",
            "[CV] n_estimators=600, min_samples_split=5, min_samples_leaf=1, max_features=auto, max_depth=80, bootstrap=True \n",
            "[CV]  n_estimators=600, min_samples_split=5, min_samples_leaf=1, max_features=auto, max_depth=80, bootstrap=True, total=  39.2s\n",
            "[CV] n_estimators=600, min_samples_split=5, min_samples_leaf=1, max_features=auto, max_depth=80, bootstrap=True \n",
            "[CV]  n_estimators=600, min_samples_split=5, min_samples_leaf=1, max_features=auto, max_depth=80, bootstrap=True, total=  37.8s\n",
            "[CV] n_estimators=1800, min_samples_split=10, min_samples_leaf=1, max_features=sqrt, max_depth=30, bootstrap=False \n",
            "[CV]  n_estimators=1800, min_samples_split=10, min_samples_leaf=1, max_features=sqrt, max_depth=30, bootstrap=False, total=  17.7s\n",
            "[CV] n_estimators=1800, min_samples_split=10, min_samples_leaf=1, max_features=sqrt, max_depth=30, bootstrap=False \n",
            "[CV]  n_estimators=1800, min_samples_split=10, min_samples_leaf=1, max_features=sqrt, max_depth=30, bootstrap=False, total=  18.0s\n",
            "[CV] n_estimators=1800, min_samples_split=10, min_samples_leaf=1, max_features=sqrt, max_depth=30, bootstrap=False \n",
            "[CV]  n_estimators=1800, min_samples_split=10, min_samples_leaf=1, max_features=sqrt, max_depth=30, bootstrap=False, total=  17.8s\n",
            "[CV] n_estimators=1600, min_samples_split=5, min_samples_leaf=1, max_features=sqrt, max_depth=70, bootstrap=False \n",
            "[CV]  n_estimators=1600, min_samples_split=5, min_samples_leaf=1, max_features=sqrt, max_depth=70, bootstrap=False, total=  18.7s\n",
            "[CV] n_estimators=1600, min_samples_split=5, min_samples_leaf=1, max_features=sqrt, max_depth=70, bootstrap=False \n",
            "[CV]  n_estimators=1600, min_samples_split=5, min_samples_leaf=1, max_features=sqrt, max_depth=70, bootstrap=False, total=  18.8s\n",
            "[CV] n_estimators=1600, min_samples_split=5, min_samples_leaf=1, max_features=sqrt, max_depth=70, bootstrap=False \n",
            "[CV]  n_estimators=1600, min_samples_split=5, min_samples_leaf=1, max_features=sqrt, max_depth=70, bootstrap=False, total=  18.5s\n",
            "[CV] n_estimators=1400, min_samples_split=5, min_samples_leaf=4, max_features=sqrt, max_depth=80, bootstrap=True \n",
            "[CV]  n_estimators=1400, min_samples_split=5, min_samples_leaf=4, max_features=sqrt, max_depth=80, bootstrap=True, total=   8.2s\n",
            "[CV] n_estimators=1400, min_samples_split=5, min_samples_leaf=4, max_features=sqrt, max_depth=80, bootstrap=True \n",
            "[CV]  n_estimators=1400, min_samples_split=5, min_samples_leaf=4, max_features=sqrt, max_depth=80, bootstrap=True, total=   8.2s\n",
            "[CV] n_estimators=1400, min_samples_split=5, min_samples_leaf=4, max_features=sqrt, max_depth=80, bootstrap=True \n",
            "[CV]  n_estimators=1400, min_samples_split=5, min_samples_leaf=4, max_features=sqrt, max_depth=80, bootstrap=True, total=   8.1s\n",
            "[CV] n_estimators=1800, min_samples_split=2, min_samples_leaf=2, max_features=auto, max_depth=None, bootstrap=True \n",
            "[CV]  n_estimators=1800, min_samples_split=2, min_samples_leaf=2, max_features=auto, max_depth=None, bootstrap=True, total= 1.8min\n",
            "[CV] n_estimators=1800, min_samples_split=2, min_samples_leaf=2, max_features=auto, max_depth=None, bootstrap=True \n",
            "[CV]  n_estimators=1800, min_samples_split=2, min_samples_leaf=2, max_features=auto, max_depth=None, bootstrap=True, total= 1.8min\n",
            "[CV] n_estimators=1800, min_samples_split=2, min_samples_leaf=2, max_features=auto, max_depth=None, bootstrap=True \n",
            "[CV]  n_estimators=1800, min_samples_split=2, min_samples_leaf=2, max_features=auto, max_depth=None, bootstrap=True, total= 1.8min\n",
            "[CV] n_estimators=1400, min_samples_split=5, min_samples_leaf=1, max_features=sqrt, max_depth=80, bootstrap=False \n",
            "[CV]  n_estimators=1400, min_samples_split=5, min_samples_leaf=1, max_features=sqrt, max_depth=80, bootstrap=False, total=  16.2s\n",
            "[CV] n_estimators=1400, min_samples_split=5, min_samples_leaf=1, max_features=sqrt, max_depth=80, bootstrap=False \n",
            "[CV]  n_estimators=1400, min_samples_split=5, min_samples_leaf=1, max_features=sqrt, max_depth=80, bootstrap=False, total=  16.3s\n",
            "[CV] n_estimators=1400, min_samples_split=5, min_samples_leaf=1, max_features=sqrt, max_depth=80, bootstrap=False \n",
            "[CV]  n_estimators=1400, min_samples_split=5, min_samples_leaf=1, max_features=sqrt, max_depth=80, bootstrap=False, total=  16.1s\n",
            "[CV] n_estimators=400, min_samples_split=2, min_samples_leaf=1, max_features=sqrt, max_depth=None, bootstrap=False \n",
            "[CV]  n_estimators=400, min_samples_split=2, min_samples_leaf=1, max_features=sqrt, max_depth=None, bootstrap=False, total=   5.7s\n",
            "[CV] n_estimators=400, min_samples_split=2, min_samples_leaf=1, max_features=sqrt, max_depth=None, bootstrap=False \n",
            "[CV]  n_estimators=400, min_samples_split=2, min_samples_leaf=1, max_features=sqrt, max_depth=None, bootstrap=False, total=   5.7s\n",
            "[CV] n_estimators=400, min_samples_split=2, min_samples_leaf=1, max_features=sqrt, max_depth=None, bootstrap=False \n",
            "[CV]  n_estimators=400, min_samples_split=2, min_samples_leaf=1, max_features=sqrt, max_depth=None, bootstrap=False, total=   5.6s\n",
            "[CV] n_estimators=1400, min_samples_split=2, min_samples_leaf=1, max_features=auto, max_depth=40, bootstrap=False \n",
            "[CV]  n_estimators=1400, min_samples_split=2, min_samples_leaf=1, max_features=auto, max_depth=40, bootstrap=False, total= 2.7min\n",
            "[CV] n_estimators=1400, min_samples_split=2, min_samples_leaf=1, max_features=auto, max_depth=40, bootstrap=False \n",
            "[CV]  n_estimators=1400, min_samples_split=2, min_samples_leaf=1, max_features=auto, max_depth=40, bootstrap=False, total= 2.7min\n",
            "[CV] n_estimators=1400, min_samples_split=2, min_samples_leaf=1, max_features=auto, max_depth=40, bootstrap=False \n",
            "[CV]  n_estimators=1400, min_samples_split=2, min_samples_leaf=1, max_features=auto, max_depth=40, bootstrap=False, total= 2.5min\n",
            "[CV] n_estimators=1000, min_samples_split=5, min_samples_leaf=2, max_features=sqrt, max_depth=20, bootstrap=True \n",
            "[CV]  n_estimators=1000, min_samples_split=5, min_samples_leaf=2, max_features=sqrt, max_depth=20, bootstrap=True, total=   6.6s\n",
            "[CV] n_estimators=1000, min_samples_split=5, min_samples_leaf=2, max_features=sqrt, max_depth=20, bootstrap=True \n",
            "[CV]  n_estimators=1000, min_samples_split=5, min_samples_leaf=2, max_features=sqrt, max_depth=20, bootstrap=True, total=   6.7s\n",
            "[CV] n_estimators=1000, min_samples_split=5, min_samples_leaf=2, max_features=sqrt, max_depth=20, bootstrap=True \n",
            "[CV]  n_estimators=1000, min_samples_split=5, min_samples_leaf=2, max_features=sqrt, max_depth=20, bootstrap=True, total=   6.7s\n",
            "[CV] n_estimators=2000, min_samples_split=10, min_samples_leaf=4, max_features=auto, max_depth=100, bootstrap=False \n",
            "[CV]  n_estimators=2000, min_samples_split=10, min_samples_leaf=4, max_features=auto, max_depth=100, bootstrap=False, total= 2.7min\n",
            "[CV] n_estimators=2000, min_samples_split=10, min_samples_leaf=4, max_features=auto, max_depth=100, bootstrap=False \n"
          ],
          "name": "stdout"
        }
      ]
    },
    {
      "cell_type": "code",
      "metadata": {
        "id": "2Tcre1pCr6lt"
      },
      "source": [
        "rf_random.best_params_"
      ],
      "execution_count": null,
      "outputs": []
    },
    {
      "cell_type": "code",
      "metadata": {
        "id": "3XuQbctCUrJW"
      },
      "source": [
        "# extract the numerical values of feature importance from the grid search\r\n",
        "importances = rf_random.best_estimator_.feature_importances_\r\n",
        "\r\n",
        "#create a feature list from the original dataset (list of columns)\r\n",
        "# What are this numbers? Let's get back to the columns of the original dataset\r\n",
        "feature_list = list(X.columns)\r\n",
        "\r\n",
        "#create a list of tuples\r\n",
        "feature_importance= sorted(zip(importances, feature_list), reverse=True)\r\n",
        "\r\n",
        "#create two lists from the previous list of tuples\r\n",
        "df = pd.DataFrame(feature_importance, columns=['importance', 'feature'])\r\n",
        "importance= list(df['importance'])\r\n",
        "feature= list(df['feature'])\r\n",
        "\r\n",
        "#see df\r\n",
        "print(df)"
      ],
      "execution_count": null,
      "outputs": []
    },
    {
      "cell_type": "code",
      "metadata": {
        "id": "WwPW43VnU2Qc"
      },
      "source": [
        "# Set the style\r\n",
        "plt.style.use('bmh')\r\n",
        "# list of x locations for plotting\r\n",
        "x_values = list(range(len(feature_importance)))\r\n",
        "\r\n",
        "# Make a bar chart\r\n",
        "plt.figure(figsize=(15,10))\r\n",
        "plt.bar(x_values, importance, orientation = 'vertical')\r\n",
        "# Tick labels for x axis\r\n",
        "plt.xticks(x_values, feature, rotation='vertical')\r\n",
        "# Axis labels and title\r\n",
        "plt.ylabel('Importance'); plt.xlabel('Variable'); plt.title('Variable Importances');"
      ],
      "execution_count": null,
      "outputs": []
    },
    {
      "cell_type": "code",
      "metadata": {
        "id": "IMiUl3QpVHhk"
      },
      "source": [
        "max_depths = np.linspace(1, 50, 50, endpoint=True)\r\n",
        "\r\n",
        "train_results = []\r\n",
        "test_results = []\r\n",
        "\r\n",
        "for i in max_depths:\r\n",
        "    dt = RandomForestRegressor(max_depth=i)\r\n",
        "    dt.fit(x_train, y_train)    \r\n",
        "    #compute accuracy for train data\r\n",
        "    housing_tree = dt.predict(x_train)\r\n",
        "    errors = abs(housing_tree - y_train)\r\n",
        "    # Calculate mean absolute percentage error (MAPE)\r\n",
        "    mape = 100 * (errors / y_train)\r\n",
        "    # Calculate and display accuracy\r\n",
        "    accuracy = 100 - np.mean(mape)\r\n",
        "    #append results of accuracy\r\n",
        "    train_results.append(accuracy)\r\n",
        "    \r\n",
        "    #now again for test data\r\n",
        "    housing_tree = dt.predict(x_test)\r\n",
        "    errors = abs(housing_tree - y_test)\r\n",
        "    # Calculate mean absolute percentage error (MAPE)\r\n",
        "    mape = 100 * (errors / y_test)\r\n",
        "    # Calculate and display accuracy\r\n",
        "    accuracy = 100 - np.mean(mape)\r\n",
        "    #append results of accuracy\r\n",
        "    test_results.append(accuracy)\r\n",
        "    \r\n",
        "from matplotlib.legend_handler import HandlerLine2D\r\n",
        "line1, = plt.plot(max_depths, train_results, 'b', label='Train accuracy')\r\n",
        "line2, = plt.plot(max_depths, test_results, 'r', label= 'Test accuracy')\r\n",
        "\r\n",
        "plt.legend(handler_map={line1: HandlerLine2D(numpoints=2)})\r\n",
        "plt.ylabel('Accuracy score')\r\n",
        "plt.xlabel('Tree depth')"
      ],
      "execution_count": null,
      "outputs": []
    },
    {
      "cell_type": "markdown",
      "metadata": {
        "id": "4LPFYd7sJONZ"
      },
      "source": [
        "Best parameters are : (n_estimators = 1400, max_depth = None, max_features = 'sqrt', min_samples_leaf = 2, min_samples_split = 5 )"
      ]
    },
    {
      "cell_type": "code",
      "metadata": {
        "id": "21uv1XTNQpXr"
      },
      "source": [
        "from sklearn.model_selection import RandomizedSearchCV\r\n",
        "from sklearn.ensemble import RandomForestRegressor"
      ],
      "execution_count": null,
      "outputs": []
    },
    {
      "cell_type": "code",
      "metadata": {
        "id": "qbVhdvbtIUgS",
        "colab": {
          "base_uri": "https://localhost:8080/"
        },
        "outputId": "a2115f56-2ada-4196-8432-1a5f86cb6681"
      },
      "source": [
        "model = RandomForestRegressor(n_estimators = 1400, max_depth = None, max_features = 'sqrt', min_samples_leaf = 2, min_samples_split = 5 )\r\n",
        "model.fit(X_train, y_train)\r\n",
        "y_pred = model.predict(X_test)\r\n",
        "\r\n",
        "cross_val_score(model, X_train, y_train, cv=3)\r\n"
      ],
      "execution_count": null,
      "outputs": [
        {
          "output_type": "execute_result",
          "data": {
            "text/plain": [
              "array([0.09622062, 0.12223108, 0.09750109])"
            ]
          },
          "metadata": {
            "tags": []
          },
          "execution_count": 16
        }
      ]
    },
    {
      "cell_type": "code",
      "metadata": {
        "colab": {
          "base_uri": "https://localhost:8080/"
        },
        "id": "cUsK2FWOzxpi",
        "outputId": "2125aacd-7d69-459d-dfb3-f8f089341e61"
      },
      "source": [
        "from sklearn.model_selection import train_test_split\r\n",
        "from math import sqrt\r\n",
        "scores = cross_val_score(model, X_train, y_train, scoring='neg_mean_squared_error', cv=3)\r\n",
        "print(\"Root Mean Square Error (RMSE)  of mean of the cross validation score is \" + str(sqrt(-1 * scores.mean())))"
      ],
      "execution_count": null,
      "outputs": [
        {
          "output_type": "stream",
          "text": [
            "Root Mean Square Error (RMSE)  of mean of the cross validation score is 2.0327568412622505\n"
          ],
          "name": "stdout"
        }
      ]
    },
    {
      "cell_type": "code",
      "metadata": {
        "id": "C_4Gbfy-f2YX"
      },
      "source": [
        "df = pd.DataFrame(y_pred, columns=['Prediction'])\r\n",
        "df['ID'] = test_ID\r\n",
        "df = df[['ID', 'Prediction']]\r\n",
        "prediction = df.to_csv(r'/content/drive/MyDrive/submission.csv', index = None, header=True)"
      ],
      "execution_count": null,
      "outputs": []
    },
    {
      "cell_type": "markdown",
      "metadata": {
        "id": "1cImpEAsYlxn"
      },
      "source": [
        "# KNeighborsRegressor"
      ]
    },
    {
      "cell_type": "code",
      "metadata": {
        "colab": {
          "base_uri": "https://localhost:8080/"
        },
        "id": "oIfhq-ZNXESU",
        "outputId": "3b3ac4ff-980f-4275-b196-9093b2acd829"
      },
      "source": [
        "cv_method = RepeatedKFold(n_splits=5, n_repeats=3, random_state=999)\r\n",
        "\r\n",
        "Data = StandardScaler().fit_transform(X_train)\r\n",
        "\r\n",
        "knn_regressor = KNeighborsRegressor()\r\n",
        "\r\n",
        "params_knn_regressor = {'n_neighbors': [60,65,70,80,100], 'p': [1, 2, 5]}\r\n",
        "\r\n",
        "gs_knn_regressor = GridSearchCV(estimator=knn_regressor, param_grid=params_knn_regressor, verbose=1, cv=cv_method)\r\n",
        "\r\n",
        "gs_knn_regressor.fit(X_train, y_train);"
      ],
      "execution_count": null,
      "outputs": [
        {
          "output_type": "stream",
          "text": [
            "Fitting 15 folds for each of 15 candidates, totalling 225 fits\n"
          ],
          "name": "stdout"
        },
        {
          "output_type": "stream",
          "text": [
            "[Parallel(n_jobs=1)]: Using backend SequentialBackend with 1 concurrent workers.\n",
            "[Parallel(n_jobs=1)]: Done 225 out of 225 | elapsed:  2.9min finished\n"
          ],
          "name": "stderr"
        }
      ]
    },
    {
      "cell_type": "code",
      "metadata": {
        "colab": {
          "base_uri": "https://localhost:8080/"
        },
        "id": "Al09i1ZZWg7r",
        "outputId": "4b3f1544-836c-48ae-ac5f-8b3c4a6ad754"
      },
      "source": [
        "gs_knn_regressor.best_params_"
      ],
      "execution_count": null,
      "outputs": [
        {
          "output_type": "execute_result",
          "data": {
            "text/plain": [
              "{'n_neighbors': 80, 'p': 1}"
            ]
          },
          "metadata": {
            "tags": []
          },
          "execution_count": 149
        }
      ]
    },
    {
      "cell_type": "code",
      "metadata": {
        "colab": {
          "base_uri": "https://localhost:8080/"
        },
        "id": "Iy6lJ17Ey9Oj",
        "outputId": "ce4f0121-1328-43b1-b545-a3174ad87295"
      },
      "source": [
        "knn = KNeighborsRegressor(n_neighbors=80,p=1)\r\n",
        "knn.fit(X_train,y_train)\r\n",
        "\r\n",
        "y_pred = knn.predict(X_test)"
      ],
      "execution_count": null,
      "outputs": [
        {
          "output_type": "execute_result",
          "data": {
            "text/plain": [
              "KNeighborsRegressor(algorithm='auto', leaf_size=30, metric='minkowski',\n",
              "                    metric_params=None, n_jobs=None, n_neighbors=80, p=1,\n",
              "                    weights='uniform')"
            ]
          },
          "metadata": {
            "tags": []
          },
          "execution_count": 243
        }
      ]
    },
    {
      "cell_type": "code",
      "metadata": {
        "colab": {
          "base_uri": "https://localhost:8080/"
        },
        "id": "gJVjOfeC4QSH",
        "outputId": "c2e7078d-2979-4b3a-9e66-1f0bac4c8a34"
      },
      "source": [
        "from sklearn.model_selection import train_test_split\r\n",
        "scores = cross_val_score(knn, X_train, y_train, scoring='neg_mean_squared_error', cv=3)\r\n",
        "print(\"Root Mean Square Error (RMSE)  of mean of the cross validation score is \" + str(sqrt(-1 * scores.mean())))"
      ],
      "execution_count": null,
      "outputs": [
        {
          "output_type": "stream",
          "text": [
            "Root Mean Square Error (RMSE)  of mean of the cross validation score is 2.0644345761356817\n"
          ],
          "name": "stdout"
        }
      ]
    },
    {
      "cell_type": "code",
      "metadata": {
        "colab": {
          "base_uri": "https://localhost:8080/",
          "height": 514
        },
        "id": "ya2sBSn0cWy4",
        "outputId": "a6b62b87-54a2-4fad-dcc9-fd2779ae44b3"
      },
      "source": [
        "gs_knn_regressor.cv_results_['mean_test_score']\r\n",
        "results_KNN = pd.DataFrame(gs_knn_regressor.cv_results_['params'])\r\n",
        "results_KNN['test_score'] = gs_knn_regressor.cv_results_['mean_test_score']\r\n",
        "results_KNN['metric'] = results_KNN['p'].replace([1,2,5], [\"Manhattan\", \"Euclidean\", \"Minkowski\"])\r\n",
        "results_KNN"
      ],
      "execution_count": null,
      "outputs": [
        {
          "output_type": "execute_result",
          "data": {
            "text/html": [
              "<div>\n",
              "<style scoped>\n",
              "    .dataframe tbody tr th:only-of-type {\n",
              "        vertical-align: middle;\n",
              "    }\n",
              "\n",
              "    .dataframe tbody tr th {\n",
              "        vertical-align: top;\n",
              "    }\n",
              "\n",
              "    .dataframe thead th {\n",
              "        text-align: right;\n",
              "    }\n",
              "</style>\n",
              "<table border=\"1\" class=\"dataframe\">\n",
              "  <thead>\n",
              "    <tr style=\"text-align: right;\">\n",
              "      <th></th>\n",
              "      <th>n_neighbors</th>\n",
              "      <th>p</th>\n",
              "      <th>test_score</th>\n",
              "      <th>metric</th>\n",
              "    </tr>\n",
              "  </thead>\n",
              "  <tbody>\n",
              "    <tr>\n",
              "      <th>0</th>\n",
              "      <td>60</td>\n",
              "      <td>1</td>\n",
              "      <td>0.061800</td>\n",
              "      <td>Manhattan</td>\n",
              "    </tr>\n",
              "    <tr>\n",
              "      <th>1</th>\n",
              "      <td>60</td>\n",
              "      <td>2</td>\n",
              "      <td>0.056157</td>\n",
              "      <td>Euclidean</td>\n",
              "    </tr>\n",
              "    <tr>\n",
              "      <th>2</th>\n",
              "      <td>60</td>\n",
              "      <td>5</td>\n",
              "      <td>0.055144</td>\n",
              "      <td>Minkowski</td>\n",
              "    </tr>\n",
              "    <tr>\n",
              "      <th>3</th>\n",
              "      <td>65</td>\n",
              "      <td>1</td>\n",
              "      <td>0.061741</td>\n",
              "      <td>Manhattan</td>\n",
              "    </tr>\n",
              "    <tr>\n",
              "      <th>4</th>\n",
              "      <td>65</td>\n",
              "      <td>2</td>\n",
              "      <td>0.059390</td>\n",
              "      <td>Euclidean</td>\n",
              "    </tr>\n",
              "    <tr>\n",
              "      <th>5</th>\n",
              "      <td>65</td>\n",
              "      <td>5</td>\n",
              "      <td>0.055058</td>\n",
              "      <td>Minkowski</td>\n",
              "    </tr>\n",
              "    <tr>\n",
              "      <th>6</th>\n",
              "      <td>70</td>\n",
              "      <td>1</td>\n",
              "      <td>0.064411</td>\n",
              "      <td>Manhattan</td>\n",
              "    </tr>\n",
              "    <tr>\n",
              "      <th>7</th>\n",
              "      <td>70</td>\n",
              "      <td>2</td>\n",
              "      <td>0.060015</td>\n",
              "      <td>Euclidean</td>\n",
              "    </tr>\n",
              "    <tr>\n",
              "      <th>8</th>\n",
              "      <td>70</td>\n",
              "      <td>5</td>\n",
              "      <td>0.056247</td>\n",
              "      <td>Minkowski</td>\n",
              "    </tr>\n",
              "    <tr>\n",
              "      <th>9</th>\n",
              "      <td>80</td>\n",
              "      <td>1</td>\n",
              "      <td>0.065723</td>\n",
              "      <td>Manhattan</td>\n",
              "    </tr>\n",
              "    <tr>\n",
              "      <th>10</th>\n",
              "      <td>80</td>\n",
              "      <td>2</td>\n",
              "      <td>0.061134</td>\n",
              "      <td>Euclidean</td>\n",
              "    </tr>\n",
              "    <tr>\n",
              "      <th>11</th>\n",
              "      <td>80</td>\n",
              "      <td>5</td>\n",
              "      <td>0.058460</td>\n",
              "      <td>Minkowski</td>\n",
              "    </tr>\n",
              "    <tr>\n",
              "      <th>12</th>\n",
              "      <td>100</td>\n",
              "      <td>1</td>\n",
              "      <td>0.064699</td>\n",
              "      <td>Manhattan</td>\n",
              "    </tr>\n",
              "    <tr>\n",
              "      <th>13</th>\n",
              "      <td>100</td>\n",
              "      <td>2</td>\n",
              "      <td>0.062328</td>\n",
              "      <td>Euclidean</td>\n",
              "    </tr>\n",
              "    <tr>\n",
              "      <th>14</th>\n",
              "      <td>100</td>\n",
              "      <td>5</td>\n",
              "      <td>0.058486</td>\n",
              "      <td>Minkowski</td>\n",
              "    </tr>\n",
              "  </tbody>\n",
              "</table>\n",
              "</div>"
            ],
            "text/plain": [
              "    n_neighbors  p  test_score     metric\n",
              "0            60  1    0.061800  Manhattan\n",
              "1            60  2    0.056157  Euclidean\n",
              "2            60  5    0.055144  Minkowski\n",
              "3            65  1    0.061741  Manhattan\n",
              "4            65  2    0.059390  Euclidean\n",
              "5            65  5    0.055058  Minkowski\n",
              "6            70  1    0.064411  Manhattan\n",
              "7            70  2    0.060015  Euclidean\n",
              "8            70  5    0.056247  Minkowski\n",
              "9            80  1    0.065723  Manhattan\n",
              "10           80  2    0.061134  Euclidean\n",
              "11           80  5    0.058460  Minkowski\n",
              "12          100  1    0.064699  Manhattan\n",
              "13          100  2    0.062328  Euclidean\n",
              "14          100  5    0.058486  Minkowski"
            ]
          },
          "metadata": {
            "tags": []
          },
          "execution_count": 155
        }
      ]
    },
    {
      "cell_type": "code",
      "metadata": {
        "colab": {
          "base_uri": "https://localhost:8080/",
          "height": 298
        },
        "id": "ClE_wlWwcZrR",
        "outputId": "34f02942-8768-49ef-8e61-72373698764d"
      },
      "source": [
        "%config InlineBackend.figure_format = 'retina'\r\n",
        "plt.style.use(\"ggplot\")\r\n",
        "\r\n",
        "for i in [\"Manhattan\", \"Euclidean\", \"Minkowski\"]:\r\n",
        "    temp = results_KNN[results_KNN['metric'] == i]\r\n",
        "    plt.plot(temp['n_neighbors'], temp['test_score'], marker = '.', label = i)\r\n",
        "    \r\n",
        "plt.legend()\r\n",
        "plt.xlabel('Number of Neighbors')\r\n",
        "plt.ylabel(\"Mean CV Score\")\r\n",
        "plt.title(\"KNN Performance Comparison\")\r\n",
        "plt.show()"
      ],
      "execution_count": null,
      "outputs": [
        {
          "output_type": "display_data",
          "data": {
            "image/png": "[encoded data removed]",
            "text/plain": [
              "<Figure size 432x288 with 1 Axes>"
            ]
          },
          "metadata": {
            "tags": [],
            "image/png": {
              "width": 401,
              "height": 281
            }
          }
        }
      ]
    },
    {
      "cell_type": "markdown",
      "metadata": {
        "id": "J4czS-pKtEUR"
      },
      "source": [
        "# SVC"
      ]
    },
    {
      "cell_type": "code",
      "metadata": {
        "id": "9C7UxV68yuDC"
      },
      "source": [
        "import pandas as pd  \r\n",
        "import numpy as np  \r\n",
        "from sklearn.svm import SVC  \r\n",
        "from sklearn.metrics import classification_report, confusion_matrix  \r\n",
        "import matplotlib.pyplot as plt\r\n",
        "from sklearn.model_selection import GridSearchCV\r\n",
        "from math import sqrt\r\n",
        "from sklearn.metrics import mean_squared_error "
      ],
      "execution_count": null,
      "outputs": []
    },
    {
      "cell_type": "markdown",
      "metadata": {
        "id": "L5A9F3-zzsY9"
      },
      "source": [
        "Using grid search as an approach to hyper-parameter tuning "
      ]
    },
    {
      "cell_type": "code",
      "metadata": {
        "id": "jrJl3e9ekyoe"
      },
      "source": [
        "from sklearn.model_selection import GridSearchCV \r\n",
        "from sklearn.svm import SVC"
      ],
      "execution_count": null,
      "outputs": []
    },
    {
      "cell_type": "code",
      "metadata": {
        "colab": {
          "base_uri": "https://localhost:8080/"
        },
        "id": "Ww05f2vezuZ1",
        "outputId": "66a17dd4-3b28-428d-c5d7-3b4abc992e12"
      },
      "source": [
        "\r\n",
        "# defining parameter range \r\n",
        "param_grid = {'C': [0.1, 1, 10, 100, 1000],  \r\n",
        "              'gamma': [1, 0.1, 0.01, 0.001, 0.0001], \r\n",
        "              'kernel': ['rbf']}  \r\n",
        "  \r\n",
        "grid = GridSearchCV(SVC(), param_grid, refit = True, verbose = 3) \r\n",
        "  \r\n",
        "# fitting the model for grid search \r\n",
        "grid.fit(X_train, y_train) "
      ],
      "execution_count": null,
      "outputs": [
        {
          "output_type": "stream",
          "text": [
            "Fitting 5 folds for each of 25 candidates, totalling 125 fits\n",
            "[CV] C=0.1, gamma=1, kernel=rbf ......................................\n"
          ],
          "name": "stdout"
        },
        {
          "output_type": "stream",
          "text": [
            "[Parallel(n_jobs=1)]: Using backend SequentialBackend with 1 concurrent workers.\n"
          ],
          "name": "stderr"
        },
        {
          "output_type": "stream",
          "text": [
            "[CV] .......... C=0.1, gamma=1, kernel=rbf, score=0.220, total=  18.1s\n",
            "[CV] C=0.1, gamma=1, kernel=rbf ......................................\n"
          ],
          "name": "stdout"
        },
        {
          "output_type": "stream",
          "text": [
            "[Parallel(n_jobs=1)]: Done   1 out of   1 | elapsed:   18.1s remaining:    0.0s\n"
          ],
          "name": "stderr"
        },
        {
          "output_type": "stream",
          "text": [
            "[CV] .......... C=0.1, gamma=1, kernel=rbf, score=0.221, total=  18.1s\n",
            "[CV] C=0.1, gamma=1, kernel=rbf ......................................\n"
          ],
          "name": "stdout"
        },
        {
          "output_type": "stream",
          "text": [
            "[Parallel(n_jobs=1)]: Done   2 out of   2 | elapsed:   36.2s remaining:    0.0s\n"
          ],
          "name": "stderr"
        },
        {
          "output_type": "stream",
          "text": [
            "[CV] .......... C=0.1, gamma=1, kernel=rbf, score=0.220, total=  18.0s\n",
            "[CV] C=0.1, gamma=1, kernel=rbf ......................................\n",
            "[CV] .......... C=0.1, gamma=1, kernel=rbf, score=0.220, total=  17.9s\n",
            "[CV] C=0.1, gamma=1, kernel=rbf ......................................\n",
            "[CV] .......... C=0.1, gamma=1, kernel=rbf, score=0.220, total=  17.9s\n",
            "[CV] C=0.1, gamma=0.1, kernel=rbf ....................................\n",
            "[CV] ........ C=0.1, gamma=0.1, kernel=rbf, score=0.218, total=  16.5s\n",
            "[CV] C=0.1, gamma=0.1, kernel=rbf ....................................\n",
            "[CV] ........ C=0.1, gamma=0.1, kernel=rbf, score=0.222, total=  16.5s\n",
            "[CV] C=0.1, gamma=0.1, kernel=rbf ....................................\n",
            "[CV] ........ C=0.1, gamma=0.1, kernel=rbf, score=0.221, total=  16.5s\n",
            "[CV] C=0.1, gamma=0.1, kernel=rbf ....................................\n",
            "[CV] ........ C=0.1, gamma=0.1, kernel=rbf, score=0.224, total=  16.5s\n",
            "[CV] C=0.1, gamma=0.1, kernel=rbf ....................................\n",
            "[CV] ........ C=0.1, gamma=0.1, kernel=rbf, score=0.220, total=  16.5s\n",
            "[CV] C=0.1, gamma=0.01, kernel=rbf ...................................\n",
            "[CV] ....... C=0.1, gamma=0.01, kernel=rbf, score=0.220, total=  13.8s\n",
            "[CV] C=0.1, gamma=0.01, kernel=rbf ...................................\n",
            "[CV] ....... C=0.1, gamma=0.01, kernel=rbf, score=0.221, total=  13.8s\n",
            "[CV] C=0.1, gamma=0.01, kernel=rbf ...................................\n",
            "[CV] ....... C=0.1, gamma=0.01, kernel=rbf, score=0.220, total=  13.9s\n",
            "[CV] C=0.1, gamma=0.01, kernel=rbf ...................................\n",
            "[CV] ....... C=0.1, gamma=0.01, kernel=rbf, score=0.220, total=  13.9s\n",
            "[CV] C=0.1, gamma=0.01, kernel=rbf ...................................\n",
            "[CV] ....... C=0.1, gamma=0.01, kernel=rbf, score=0.220, total=  13.8s\n",
            "[CV] C=0.1, gamma=0.001, kernel=rbf ..................................\n",
            "[CV] ...... C=0.1, gamma=0.001, kernel=rbf, score=0.220, total=  12.9s\n",
            "[CV] C=0.1, gamma=0.001, kernel=rbf ..................................\n",
            "[CV] ...... C=0.1, gamma=0.001, kernel=rbf, score=0.221, total=  12.8s\n",
            "[CV] C=0.1, gamma=0.001, kernel=rbf ..................................\n",
            "[CV] ...... C=0.1, gamma=0.001, kernel=rbf, score=0.220, total=  12.8s\n",
            "[CV] C=0.1, gamma=0.001, kernel=rbf ..................................\n",
            "[CV] ...... C=0.1, gamma=0.001, kernel=rbf, score=0.220, total=  12.8s\n",
            "[CV] C=0.1, gamma=0.001, kernel=rbf ..................................\n",
            "[CV] ...... C=0.1, gamma=0.001, kernel=rbf, score=0.220, total=  12.9s\n",
            "[CV] C=0.1, gamma=0.0001, kernel=rbf .................................\n",
            "[CV] ..... C=0.1, gamma=0.0001, kernel=rbf, score=0.220, total=  11.8s\n",
            "[CV] C=0.1, gamma=0.0001, kernel=rbf .................................\n",
            "[CV] ..... C=0.1, gamma=0.0001, kernel=rbf, score=0.221, total=  11.8s\n",
            "[CV] C=0.1, gamma=0.0001, kernel=rbf .................................\n",
            "[CV] ..... C=0.1, gamma=0.0001, kernel=rbf, score=0.220, total=  11.9s\n",
            "[CV] C=0.1, gamma=0.0001, kernel=rbf .................................\n",
            "[CV] ..... C=0.1, gamma=0.0001, kernel=rbf, score=0.220, total=  11.8s\n",
            "[CV] C=0.1, gamma=0.0001, kernel=rbf .................................\n",
            "[CV] ..... C=0.1, gamma=0.0001, kernel=rbf, score=0.220, total=  11.8s\n",
            "[CV] C=1, gamma=1, kernel=rbf ........................................\n",
            "[CV] ............ C=1, gamma=1, kernel=rbf, score=0.220, total=  18.1s\n",
            "[CV] C=1, gamma=1, kernel=rbf ........................................\n",
            "[CV] ............ C=1, gamma=1, kernel=rbf, score=0.221, total=  18.0s\n",
            "[CV] C=1, gamma=1, kernel=rbf ........................................\n",
            "[CV] ............ C=1, gamma=1, kernel=rbf, score=0.220, total=  18.1s\n",
            "[CV] C=1, gamma=1, kernel=rbf ........................................\n",
            "[CV] ............ C=1, gamma=1, kernel=rbf, score=0.220, total=  18.1s\n",
            "[CV] C=1, gamma=1, kernel=rbf ........................................\n",
            "[CV] ............ C=1, gamma=1, kernel=rbf, score=0.220, total=  18.1s\n",
            "[CV] C=1, gamma=0.1, kernel=rbf ......................................\n",
            "[CV] .......... C=1, gamma=0.1, kernel=rbf, score=0.236, total=  17.1s\n",
            "[CV] C=1, gamma=0.1, kernel=rbf ......................................\n",
            "[CV] .......... C=1, gamma=0.1, kernel=rbf, score=0.234, total=  17.1s\n",
            "[CV] C=1, gamma=0.1, kernel=rbf ......................................\n",
            "[CV] .......... C=1, gamma=0.1, kernel=rbf, score=0.250, total=  17.0s\n",
            "[CV] C=1, gamma=0.1, kernel=rbf ......................................\n",
            "[CV] .......... C=1, gamma=0.1, kernel=rbf, score=0.223, total=  17.1s\n",
            "[CV] C=1, gamma=0.1, kernel=rbf ......................................\n",
            "[CV] .......... C=1, gamma=0.1, kernel=rbf, score=0.237, total=  17.2s\n",
            "[CV] C=1, gamma=0.01, kernel=rbf .....................................\n",
            "[CV] ......... C=1, gamma=0.01, kernel=rbf, score=0.223, total=  13.7s\n",
            "[CV] C=1, gamma=0.01, kernel=rbf .....................................\n",
            "[CV] ......... C=1, gamma=0.01, kernel=rbf, score=0.237, total=  13.7s\n",
            "[CV] C=1, gamma=0.01, kernel=rbf .....................................\n",
            "[CV] ......... C=1, gamma=0.01, kernel=rbf, score=0.239, total=  13.7s\n",
            "[CV] C=1, gamma=0.01, kernel=rbf .....................................\n",
            "[CV] ......... C=1, gamma=0.01, kernel=rbf, score=0.235, total=  13.7s\n",
            "[CV] C=1, gamma=0.01, kernel=rbf .....................................\n",
            "[CV] ......... C=1, gamma=0.01, kernel=rbf, score=0.243, total=  13.7s\n",
            "[CV] C=1, gamma=0.001, kernel=rbf ....................................\n",
            "[CV] ........ C=1, gamma=0.001, kernel=rbf, score=0.221, total=  13.6s\n",
            "[CV] C=1, gamma=0.001, kernel=rbf ....................................\n",
            "[CV] ........ C=1, gamma=0.001, kernel=rbf, score=0.219, total=  13.5s\n",
            "[CV] C=1, gamma=0.001, kernel=rbf ....................................\n",
            "[CV] ........ C=1, gamma=0.001, kernel=rbf, score=0.222, total=  13.6s\n",
            "[CV] C=1, gamma=0.001, kernel=rbf ....................................\n",
            "[CV] ........ C=1, gamma=0.001, kernel=rbf, score=0.222, total=  13.5s\n",
            "[CV] C=1, gamma=0.001, kernel=rbf ....................................\n",
            "[CV] ........ C=1, gamma=0.001, kernel=rbf, score=0.219, total=  13.5s\n",
            "[CV] C=1, gamma=0.0001, kernel=rbf ...................................\n",
            "[CV] ....... C=1, gamma=0.0001, kernel=rbf, score=0.220, total=  12.8s\n",
            "[CV] C=1, gamma=0.0001, kernel=rbf ...................................\n",
            "[CV] ....... C=1, gamma=0.0001, kernel=rbf, score=0.221, total=  12.8s\n",
            "[CV] C=1, gamma=0.0001, kernel=rbf ...................................\n",
            "[CV] ....... C=1, gamma=0.0001, kernel=rbf, score=0.220, total=  12.8s\n",
            "[CV] C=1, gamma=0.0001, kernel=rbf ...................................\n",
            "[CV] ....... C=1, gamma=0.0001, kernel=rbf, score=0.220, total=  12.7s\n",
            "[CV] C=1, gamma=0.0001, kernel=rbf ...................................\n",
            "[CV] ....... C=1, gamma=0.0001, kernel=rbf, score=0.220, total=  12.8s\n",
            "[CV] C=10, gamma=1, kernel=rbf .......................................\n",
            "[CV] ........... C=10, gamma=1, kernel=rbf, score=0.220, total=  18.3s\n",
            "[CV] C=10, gamma=1, kernel=rbf .......................................\n",
            "[CV] ........... C=10, gamma=1, kernel=rbf, score=0.222, total=  18.3s\n",
            "[CV] C=10, gamma=1, kernel=rbf .......................................\n",
            "[CV] ........... C=10, gamma=1, kernel=rbf, score=0.220, total=  18.3s\n",
            "[CV] C=10, gamma=1, kernel=rbf .......................................\n",
            "[CV] ........... C=10, gamma=1, kernel=rbf, score=0.220, total=  18.3s\n",
            "[CV] C=10, gamma=1, kernel=rbf .......................................\n",
            "[CV] ........... C=10, gamma=1, kernel=rbf, score=0.220, total=  18.3s\n",
            "[CV] C=10, gamma=0.1, kernel=rbf .....................................\n",
            "[CV] ......... C=10, gamma=0.1, kernel=rbf, score=0.226, total=  18.0s\n",
            "[CV] C=10, gamma=0.1, kernel=rbf .....................................\n",
            "[CV] ......... C=10, gamma=0.1, kernel=rbf, score=0.234, total=  17.9s\n",
            "[CV] C=10, gamma=0.1, kernel=rbf .....................................\n",
            "[CV] ......... C=10, gamma=0.1, kernel=rbf, score=0.224, total=  17.9s\n",
            "[CV] C=10, gamma=0.1, kernel=rbf .....................................\n",
            "[CV] ......... C=10, gamma=0.1, kernel=rbf, score=0.221, total=  17.8s\n",
            "[CV] C=10, gamma=0.1, kernel=rbf .....................................\n",
            "[CV] ......... C=10, gamma=0.1, kernel=rbf, score=0.222, total=  17.8s\n",
            "[CV] C=10, gamma=0.01, kernel=rbf ....................................\n",
            "[CV] ........ C=10, gamma=0.01, kernel=rbf, score=0.222, total=  13.7s\n",
            "[CV] C=10, gamma=0.01, kernel=rbf ....................................\n",
            "[CV] ........ C=10, gamma=0.01, kernel=rbf, score=0.231, total=  13.8s\n",
            "[CV] C=10, gamma=0.01, kernel=rbf ....................................\n",
            "[CV] ........ C=10, gamma=0.01, kernel=rbf, score=0.237, total=  13.7s\n",
            "[CV] C=10, gamma=0.01, kernel=rbf ....................................\n",
            "[CV] ........ C=10, gamma=0.01, kernel=rbf, score=0.234, total=  13.7s\n",
            "[CV] C=10, gamma=0.01, kernel=rbf ....................................\n",
            "[CV] ........ C=10, gamma=0.01, kernel=rbf, score=0.234, total=  13.7s\n",
            "[CV] C=10, gamma=0.001, kernel=rbf ...................................\n",
            "[CV] ....... C=10, gamma=0.001, kernel=rbf, score=0.214, total=  13.3s\n",
            "[CV] C=10, gamma=0.001, kernel=rbf ...................................\n",
            "[CV] ....... C=10, gamma=0.001, kernel=rbf, score=0.233, total=  13.4s\n",
            "[CV] C=10, gamma=0.001, kernel=rbf ...................................\n",
            "[CV] ....... C=10, gamma=0.001, kernel=rbf, score=0.232, total=  13.3s\n",
            "[CV] C=10, gamma=0.001, kernel=rbf ...................................\n",
            "[CV] ....... C=10, gamma=0.001, kernel=rbf, score=0.238, total=  13.3s\n",
            "[CV] C=10, gamma=0.001, kernel=rbf ...................................\n",
            "[CV] ....... C=10, gamma=0.001, kernel=rbf, score=0.238, total=  13.3s\n",
            "[CV] C=10, gamma=0.0001, kernel=rbf ..................................\n",
            "[CV] ...... C=10, gamma=0.0001, kernel=rbf, score=0.221, total=  13.5s\n",
            "[CV] C=10, gamma=0.0001, kernel=rbf ..................................\n",
            "[CV] ...... C=10, gamma=0.0001, kernel=rbf, score=0.220, total=  13.5s\n",
            "[CV] C=10, gamma=0.0001, kernel=rbf ..................................\n",
            "[CV] ...... C=10, gamma=0.0001, kernel=rbf, score=0.222, total=  13.5s\n",
            "[CV] C=10, gamma=0.0001, kernel=rbf ..................................\n",
            "[CV] ...... C=10, gamma=0.0001, kernel=rbf, score=0.221, total=  13.5s\n",
            "[CV] C=10, gamma=0.0001, kernel=rbf ..................................\n",
            "[CV] ...... C=10, gamma=0.0001, kernel=rbf, score=0.219, total=  13.5s\n",
            "[CV] C=100, gamma=1, kernel=rbf ......................................\n",
            "[CV] .......... C=100, gamma=1, kernel=rbf, score=0.220, total=  18.2s\n",
            "[CV] C=100, gamma=1, kernel=rbf ......................................\n",
            "[CV] .......... C=100, gamma=1, kernel=rbf, score=0.222, total=  18.5s\n",
            "[CV] C=100, gamma=1, kernel=rbf ......................................\n",
            "[CV] .......... C=100, gamma=1, kernel=rbf, score=0.220, total=  18.4s\n",
            "[CV] C=100, gamma=1, kernel=rbf ......................................\n",
            "[CV] .......... C=100, gamma=1, kernel=rbf, score=0.220, total=  18.3s\n",
            "[CV] C=100, gamma=1, kernel=rbf ......................................\n",
            "[CV] .......... C=100, gamma=1, kernel=rbf, score=0.220, total=  18.3s\n",
            "[CV] C=100, gamma=0.1, kernel=rbf ....................................\n",
            "[CV] ........ C=100, gamma=0.1, kernel=rbf, score=0.226, total=  17.9s\n",
            "[CV] C=100, gamma=0.1, kernel=rbf ....................................\n",
            "[CV] ........ C=100, gamma=0.1, kernel=rbf, score=0.234, total=  17.9s\n",
            "[CV] C=100, gamma=0.1, kernel=rbf ....................................\n",
            "[CV] ........ C=100, gamma=0.1, kernel=rbf, score=0.224, total=  17.9s\n",
            "[CV] C=100, gamma=0.1, kernel=rbf ....................................\n",
            "[CV] ........ C=100, gamma=0.1, kernel=rbf, score=0.221, total=  17.8s\n",
            "[CV] C=100, gamma=0.1, kernel=rbf ....................................\n",
            "[CV] ........ C=100, gamma=0.1, kernel=rbf, score=0.222, total=  17.9s\n",
            "[CV] C=100, gamma=0.01, kernel=rbf ...................................\n",
            "[CV] ....... C=100, gamma=0.01, kernel=rbf, score=0.187, total=  19.5s\n",
            "[CV] C=100, gamma=0.01, kernel=rbf ...................................\n",
            "[CV] ....... C=100, gamma=0.01, kernel=rbf, score=0.202, total=  19.4s\n",
            "[CV] C=100, gamma=0.01, kernel=rbf ...................................\n",
            "[CV] ....... C=100, gamma=0.01, kernel=rbf, score=0.183, total=  19.5s\n",
            "[CV] C=100, gamma=0.01, kernel=rbf ...................................\n",
            "[CV] ....... C=100, gamma=0.01, kernel=rbf, score=0.193, total=  19.5s\n",
            "[CV] C=100, gamma=0.01, kernel=rbf ...................................\n",
            "[CV] ....... C=100, gamma=0.01, kernel=rbf, score=0.195, total=  19.6s\n",
            "[CV] C=100, gamma=0.001, kernel=rbf ..................................\n",
            "[CV] ...... C=100, gamma=0.001, kernel=rbf, score=0.222, total=  13.5s\n",
            "[CV] C=100, gamma=0.001, kernel=rbf ..................................\n",
            "[CV] ...... C=100, gamma=0.001, kernel=rbf, score=0.227, total=  13.5s\n",
            "[CV] C=100, gamma=0.001, kernel=rbf ..................................\n",
            "[CV] ...... C=100, gamma=0.001, kernel=rbf, score=0.237, total=  13.4s\n",
            "[CV] C=100, gamma=0.001, kernel=rbf ..................................\n",
            "[CV] ...... C=100, gamma=0.001, kernel=rbf, score=0.237, total=  13.5s\n",
            "[CV] C=100, gamma=0.001, kernel=rbf ..................................\n",
            "[CV] ...... C=100, gamma=0.001, kernel=rbf, score=0.234, total=  13.5s\n",
            "[CV] C=100, gamma=0.0001, kernel=rbf .................................\n",
            "[CV] ..... C=100, gamma=0.0001, kernel=rbf, score=0.215, total=  13.5s\n",
            "[CV] C=100, gamma=0.0001, kernel=rbf .................................\n",
            "[CV] ..... C=100, gamma=0.0001, kernel=rbf, score=0.234, total=  13.4s\n",
            "[CV] C=100, gamma=0.0001, kernel=rbf .................................\n",
            "[CV] ..... C=100, gamma=0.0001, kernel=rbf, score=0.232, total=  13.3s\n",
            "[CV] C=100, gamma=0.0001, kernel=rbf .................................\n",
            "[CV] ..... C=100, gamma=0.0001, kernel=rbf, score=0.235, total=  13.3s\n",
            "[CV] C=100, gamma=0.0001, kernel=rbf .................................\n",
            "[CV] ..... C=100, gamma=0.0001, kernel=rbf, score=0.239, total=  13.3s\n",
            "[CV] C=1000, gamma=1, kernel=rbf .....................................\n",
            "[CV] ......... C=1000, gamma=1, kernel=rbf, score=0.220, total=  18.3s\n",
            "[CV] C=1000, gamma=1, kernel=rbf .....................................\n",
            "[CV] ......... C=1000, gamma=1, kernel=rbf, score=0.222, total=  18.4s\n",
            "[CV] C=1000, gamma=1, kernel=rbf .....................................\n",
            "[CV] ......... C=1000, gamma=1, kernel=rbf, score=0.220, total=  18.3s\n",
            "[CV] C=1000, gamma=1, kernel=rbf .....................................\n",
            "[CV] ......... C=1000, gamma=1, kernel=rbf, score=0.220, total=  18.3s\n",
            "[CV] C=1000, gamma=1, kernel=rbf .....................................\n",
            "[CV] ......... C=1000, gamma=1, kernel=rbf, score=0.220, total=  18.4s\n",
            "[CV] C=1000, gamma=0.1, kernel=rbf ...................................\n",
            "[CV] ....... C=1000, gamma=0.1, kernel=rbf, score=0.226, total=  17.9s\n",
            "[CV] C=1000, gamma=0.1, kernel=rbf ...................................\n",
            "[CV] ....... C=1000, gamma=0.1, kernel=rbf, score=0.234, total=  17.9s\n",
            "[CV] C=1000, gamma=0.1, kernel=rbf ...................................\n",
            "[CV] ....... C=1000, gamma=0.1, kernel=rbf, score=0.224, total=  17.9s\n",
            "[CV] C=1000, gamma=0.1, kernel=rbf ...................................\n",
            "[CV] ....... C=1000, gamma=0.1, kernel=rbf, score=0.221, total=  17.8s\n",
            "[CV] C=1000, gamma=0.1, kernel=rbf ...................................\n",
            "[CV] ....... C=1000, gamma=0.1, kernel=rbf, score=0.222, total=  17.9s\n",
            "[CV] C=1000, gamma=0.01, kernel=rbf ..................................\n",
            "[CV] ...... C=1000, gamma=0.01, kernel=rbf, score=0.182, total=  20.6s\n",
            "[CV] C=1000, gamma=0.01, kernel=rbf ..................................\n",
            "[CV] ...... C=1000, gamma=0.01, kernel=rbf, score=0.204, total=  20.6s\n",
            "[CV] C=1000, gamma=0.01, kernel=rbf ..................................\n",
            "[CV] ...... C=1000, gamma=0.01, kernel=rbf, score=0.186, total=  20.6s\n",
            "[CV] C=1000, gamma=0.01, kernel=rbf ..................................\n",
            "[CV] ...... C=1000, gamma=0.01, kernel=rbf, score=0.190, total=  20.6s\n",
            "[CV] C=1000, gamma=0.01, kernel=rbf ..................................\n",
            "[CV] ...... C=1000, gamma=0.01, kernel=rbf, score=0.205, total=  20.6s\n",
            "[CV] C=1000, gamma=0.001, kernel=rbf .................................\n",
            "[CV] ..... C=1000, gamma=0.001, kernel=rbf, score=0.214, total=  18.0s\n",
            "[CV] C=1000, gamma=0.001, kernel=rbf .................................\n",
            "[CV] ..... C=1000, gamma=0.001, kernel=rbf, score=0.224, total=  18.1s\n",
            "[CV] C=1000, gamma=0.001, kernel=rbf .................................\n",
            "[CV] ..... C=1000, gamma=0.001, kernel=rbf, score=0.221, total=  18.0s\n",
            "[CV] C=1000, gamma=0.001, kernel=rbf .................................\n",
            "[CV] ..... C=1000, gamma=0.001, kernel=rbf, score=0.210, total=  17.9s\n",
            "[CV] C=1000, gamma=0.001, kernel=rbf .................................\n",
            "[CV] ..... C=1000, gamma=0.001, kernel=rbf, score=0.214, total=  18.0s\n",
            "[CV] C=1000, gamma=0.0001, kernel=rbf ................................\n",
            "[CV] .... C=1000, gamma=0.0001, kernel=rbf, score=0.222, total=  13.4s\n",
            "[CV] C=1000, gamma=0.0001, kernel=rbf ................................\n",
            "[CV] .... C=1000, gamma=0.0001, kernel=rbf, score=0.229, total=  13.5s\n",
            "[CV] C=1000, gamma=0.0001, kernel=rbf ................................\n",
            "[CV] .... C=1000, gamma=0.0001, kernel=rbf, score=0.235, total=  13.5s\n",
            "[CV] C=1000, gamma=0.0001, kernel=rbf ................................\n",
            "[CV] .... C=1000, gamma=0.0001, kernel=rbf, score=0.234, total=  13.5s\n",
            "[CV] C=1000, gamma=0.0001, kernel=rbf ................................\n",
            "[CV] .... C=1000, gamma=0.0001, kernel=rbf, score=0.234, total=  13.4s\n"
          ],
          "name": "stdout"
        },
        {
          "output_type": "stream",
          "text": [
            "[Parallel(n_jobs=1)]: Done 125 out of 125 | elapsed: 33.0min finished\n"
          ],
          "name": "stderr"
        },
        {
          "output_type": "execute_result",
          "data": {
            "text/plain": [
              "GridSearchCV(cv=None, error_score=nan,\n",
              "             estimator=SVC(C=1.0, break_ties=False, cache_size=200,\n",
              "                           class_weight=None, coef0=0.0,\n",
              "                           decision_function_shape='ovr', degree=3,\n",
              "                           gamma='scale', kernel='rbf', max_iter=-1,\n",
              "                           probability=False, random_state=None, shrinking=True,\n",
              "                           tol=0.001, verbose=False),\n",
              "             iid='deprecated', n_jobs=None,\n",
              "             param_grid={'C': [0.1, 1, 10, 100, 1000],\n",
              "                         'gamma': [1, 0.1, 0.01, 0.001, 0.0001],\n",
              "                         'kernel': ['rbf']},\n",
              "             pre_dispatch='2*n_jobs', refit=True, return_train_score=False,\n",
              "             scoring=None, verbose=3)"
            ]
          },
          "metadata": {
            "tags": []
          },
          "execution_count": 17
        }
      ]
    },
    {
      "cell_type": "code",
      "metadata": {
        "colab": {
          "base_uri": "https://localhost:8080/"
        },
        "id": "sibsZItjAZl6",
        "outputId": "1c1a0837-f89b-4a84-ed50-2e2e00141315"
      },
      "source": [
        "# print best parameter after tuning \r\n",
        "print(grid.best_params_) \r\n",
        "  \r\n",
        "# print how our model looks after hyper-parameter tuning \r\n",
        "print(grid.best_estimator_) "
      ],
      "execution_count": null,
      "outputs": [
        {
          "output_type": "stream",
          "text": [
            "{'C': 1, 'gamma': 0.1, 'kernel': 'rbf'}\n",
            "SVC(C=1, break_ties=False, cache_size=200, class_weight=None, coef0=0.0,\n",
            "    decision_function_shape='ovr', degree=3, gamma=0.1, kernel='rbf',\n",
            "    max_iter=-1, probability=False, random_state=None, shrinking=True,\n",
            "    tol=0.001, verbose=False)\n"
          ],
          "name": "stdout"
        }
      ]
    },
    {
      "cell_type": "code",
      "metadata": {
        "id": "s1JhAvRMzx27"
      },
      "source": [
        "from sklearn.svm import SVC\r\n",
        "svc = SVC(C=1, break_ties=False, cache_size=200, class_weight=None, coef0=0.0,\r\n",
        "    decision_function_shape='ovr', degree=3, gamma=0.1, kernel='rbf',\r\n",
        "    max_iter=-1, probability=False, random_state=None, shrinking=True,\r\n",
        "    tol=0.001, verbose=False).fit(X_train,y_train)\r\n",
        "svc.fit(X_train,y_train)\r\n",
        "y_pred = svc.predict(X_test) \r\n"
      ],
      "execution_count": null,
      "outputs": []
    },
    {
      "cell_type": "code",
      "metadata": {
        "id": "I9RViQmZgGiE",
        "colab": {
          "base_uri": "https://localhost:8080/"
        },
        "outputId": "25f91e3a-15ef-454b-fbf9-5f864100a5e4"
      },
      "source": [
        "from math import sqrt\r\n",
        "scores = cross_val_score(svc, X_train, y_train, scoring='neg_mean_squared_error', cv=3)\r\n",
        "print(\"Root Mean Square Error (RMSE)  of mean of the cross validation score is \" + str(sqrt(-1 * scores.mean())))"
      ],
      "execution_count": null,
      "outputs": [
        {
          "output_type": "stream",
          "text": [
            "Root Mean Square Error (RMSE)  of mean of the cross validation score is 2.2453504943475955\n"
          ],
          "name": "stdout"
        }
      ]
    }
  ]
}
